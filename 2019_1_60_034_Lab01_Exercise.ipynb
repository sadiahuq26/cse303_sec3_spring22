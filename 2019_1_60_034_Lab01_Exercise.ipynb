{
  "nbformat": 4,
  "nbformat_minor": 0,
  "metadata": {
    "colab": {
      "name": "2019-1-60-034_Lab01_Exercise.ipynb",
      "provenance": [],
      "collapsed_sections": [],
      "authorship_tag": "ABX9TyNypC+IDbuBgKweW7eWDEaL",
      "include_colab_link": true
    },
    "kernelspec": {
      "name": "python3",
      "display_name": "Python 3"
    },
    "language_info": {
      "name": "python"
    }
  },
  "cells": [
    {
      "cell_type": "markdown",
      "metadata": {
        "id": "view-in-github",
        "colab_type": "text"
      },
      "source": [
        "<a href=\"https://colab.research.google.com/github/sadiahuq26/cse303_sec3_spring22/blob/main/2019_1_60_034_Lab01_Exercise.ipynb\" target=\"_parent\"><img src=\"https://colab.research.google.com/assets/colab-badge.svg\" alt=\"Open In Colab\"/></a>"
      ]
    },
    {
      "cell_type": "markdown",
      "source": [
        "1) Given two integer numbers, write a Python program to return their product. If the product is greater\n",
        "than 1000, then return their sum. Read inputs from the user."
      ],
      "metadata": {
        "id": "8bJ9eUSf2lbM"
      }
    },
    {
      "cell_type": "code",
      "source": [
        "def num(x,y):\n",
        "    if x*y > 1000:\n",
        "        print(\"sum : \")\n",
        "        return x+y\n",
        "    else:\n",
        "        print(\"Product: \")\n",
        "        return x*y\n",
        "    \n",
        "x = int(input('input num x: '))\n",
        "y = int(input('input num y: '))\n",
        "\n",
        "print(num(x,y))"
      ],
      "metadata": {
        "colab": {
          "base_uri": "https://localhost:8080/"
        },
        "id": "FcBuA-z52p-s",
        "outputId": "805e8f0e-f7e8-4418-e638-449ef3d00af3"
      },
      "execution_count": null,
      "outputs": [
        {
          "output_type": "stream",
          "name": "stdout",
          "text": [
            "input num x: 500\n",
            "input num y: 10\n",
            "sum : \n",
            "510\n"
          ]
        }
      ]
    },
    {
      "cell_type": "markdown",
      "source": [
        "2) Write a Python program to find the area and perimeter of a circle. Read inputs from the user."
      ],
      "metadata": {
        "id": "uYdCGpIJ9i7b"
      }
    },
    {
      "cell_type": "code",
      "source": [
        "import math\n",
        "\n",
        "r = float(input(\"Input Radius: \"))\n",
        "area = math.pi*(r*r)\n",
        "print(\"Area of Circle: \",area)\n",
        "perimeter = 2*math.pi*r\n",
        "print(\"Perimeter of Circle: \",perimeter)"
      ],
      "metadata": {
        "colab": {
          "base_uri": "https://localhost:8080/"
        },
        "id": "sOE1xmbm9kSC",
        "outputId": "ff5c780a-4436-4f10-8e19-8ad85a284397"
      },
      "execution_count": null,
      "outputs": [
        {
          "output_type": "stream",
          "name": "stdout",
          "text": [
            "Input Radius: 5\n",
            "Area of Circle:  78.53981633974483\n",
            "Perimeter of Circle:  31.41592653589793\n"
          ]
        }
      ]
    },
    {
      "cell_type": "markdown",
      "source": [
        "3) Write a Python program to calculate the compound interest based on the given formula. Read inputs\n",
        "from the user.\n",
        "A = P * (1 + R/100)^T\n",
        "where P is the principle amount, R is the interest rate and T is time (in years).\n",
        "\n",
        "Define a function named as compound_interest_< your-student-id > in your program."
      ],
      "metadata": {
        "id": "lAjggx4yBitm"
      }
    },
    {
      "cell_type": "code",
      "source": [
        "def compound_interest_2019_1_60_034(P,R,T):\n",
        "    return P * ((1 + R/100)**T)\n",
        "\n",
        "P = int(input(\"input principle amount:  \"))\n",
        "R = float(input(\"input interest rate: \"))\n",
        "T = int(input(\"input time(in years): \"))\n",
        "A = compound_interest_2019_1_60_034(P,R,T)\n",
        "print(\"Compound interest : \",A)"
      ],
      "metadata": {
        "colab": {
          "base_uri": "https://localhost:8080/"
        },
        "id": "2TITF6AXBkZj",
        "outputId": "fc742c19-a25c-48c9-8372-79cc651526a8"
      },
      "execution_count": null,
      "outputs": [
        {
          "output_type": "stream",
          "name": "stdout",
          "text": [
            "input principle amount:  35000\n",
            "input interest rate: 3.5\n",
            "input time(in years): 1\n",
            "Compound interest :  36225.0\n"
          ]
        }
      ]
    },
    {
      "cell_type": "markdown",
      "source": [
        "4) Given a positive integer N (read from the user), write a Python program to calculate the value of the\n",
        "following series.\n",
        "\n",
        "1^2 + 2^2 + 3^2 + 4^2 ..... + N^2"
      ],
      "metadata": {
        "id": "E9eWX5eENTEN"
      }
    },
    {
      "cell_type": "code",
      "source": [
        "def sum_series(N):\n",
        "    return (N*(N+1)*(2*N+1))/6\n",
        "N = int(input(\"input number : \"))\n",
        "\n",
        "print(\"sum of series: \",sum_series(N))"
      ],
      "metadata": {
        "colab": {
          "base_uri": "https://localhost:8080/"
        },
        "id": "S8NMvIynNl40",
        "outputId": "5a37fd4c-d089-499a-d114-b1ca6204615f"
      },
      "execution_count": null,
      "outputs": [
        {
          "output_type": "stream",
          "name": "stdout",
          "text": [
            "input number : 12\n",
            "sum of series:  650.0\n"
          ]
        }
      ]
    },
    {
      "cell_type": "markdown",
      "source": [
        "5) Given a positive integer N (read from the user), write a Python program to check if the number is\n",
        "prime or not. Define a function named as prime_find_< your-student-id > in your program."
      ],
      "metadata": {
        "id": "qcdKnK2yPVq8"
      }
    },
    {
      "cell_type": "code",
      "source": [
        "def prime_find_2019_1_60_034(N):\n",
        "  if N> 1:  \n",
        "        for i in range(2,N):  \n",
        "            if (N % i) == 0: \n",
        "              print(\"Not a prime number\")\n",
        "              break\n",
        "        else:\n",
        "            print(\"Prime number\")\n",
        "  else:\n",
        "      print(\"Not a prime number\")\n",
        "N = int(input(\"input number: \"))\n",
        "prime_find_2019_1_60_034(N)"
      ],
      "metadata": {
        "colab": {
          "base_uri": "https://localhost:8080/"
        },
        "id": "UvVbXI3NPYNM",
        "outputId": "aa10888e-1d10-4fa7-baf8-9a595d6694c6"
      },
      "execution_count": null,
      "outputs": [
        {
          "output_type": "stream",
          "name": "stdout",
          "text": [
            "input number: 2\n",
            "Prime number\n"
          ]
        }
      ]
    },
    {
      "cell_type": "markdown",
      "source": [
        "6) Given a positive integer n (read from the user), write a Python program to find the n-th Fibonacci\n",
        "number based on the following assumptions.\n",
        "Fn = Fn-1 + Fn-2 where F0 = 0 and F1 = 1"
      ],
      "metadata": {
        "id": "mXr0NOffioSd"
      }
    },
    {
      "cell_type": "code",
      "source": [
        "def fibonacci(n):\n",
        "    if n<=0:\n",
        "        return 0\n",
        "    elif n==1:\n",
        "        return 1    \n",
        "    else:\n",
        "        return fibonacci(n-1)+fibonacci(n-2)\n",
        "n=int(input(\"input number: \"))\n",
        "print(n,\"th fibonacci number is : \",fibonacci(n))"
      ],
      "metadata": {
        "colab": {
          "base_uri": "https://localhost:8080/"
        },
        "id": "A9xvFoj7iv0l",
        "outputId": "dd1c31be-6b3f-4c01-9cd3-16db61050268"
      },
      "execution_count": null,
      "outputs": [
        {
          "output_type": "stream",
          "name": "stdout",
          "text": [
            "input number: 3\n",
            "3 th fibonacci number is :  2\n"
          ]
        }
      ]
    },
    {
      "cell_type": "markdown",
      "source": [
        "7) Given a list of numbers (hardcoded in the program), write a Python program to calculate the sum of\n",
        "the list. Do not use any built-in function."
      ],
      "metadata": {
        "id": "Zsg48PPDqcjN"
      }
    },
    {
      "cell_type": "code",
      "source": [
        "list = [12,1,4,15,3,8]\n",
        "def count_sum(list):\n",
        "    count=0 \n",
        "    for i in list:\n",
        "        count+=i   \n",
        "    return count\n",
        "print(\"Sum: \", count_sum(list))"
      ],
      "metadata": {
        "colab": {
          "base_uri": "https://localhost:8080/"
        },
        "id": "hVGI_KbquV58",
        "outputId": "bafaeea0-2e4c-4218-a1fb-4463e0cec3bd"
      },
      "execution_count": null,
      "outputs": [
        {
          "output_type": "stream",
          "name": "stdout",
          "text": [
            "Sum:  43\n"
          ]
        }
      ]
    },
    {
      "cell_type": "markdown",
      "source": [
        "8) Given a list of numbers (hardcoded in the program), write a Python program to calculate the sum of\n",
        "the even-indexed elements in the list."
      ],
      "metadata": {
        "id": "fYF5B9YjvTBs"
      }
    },
    {
      "cell_type": "code",
      "source": [
        "list = [12,1,4,15,3,8]\n",
        "def count_sum(list):\n",
        "    count=0 \n",
        "    for i in range(len(list)):\n",
        "      if i%2==0:\n",
        "        count+=list[i]   \n",
        "    return count\n",
        "print(\"Sum: \", count_sum(list))"
      ],
      "metadata": {
        "colab": {
          "base_uri": "https://localhost:8080/"
        },
        "id": "F3ZevQJLvV68",
        "outputId": "3b6a649e-f6bf-4d34-dffc-cbb04dbcf412"
      },
      "execution_count": null,
      "outputs": [
        {
          "output_type": "stream",
          "name": "stdout",
          "text": [
            "Sum:  19\n"
          ]
        }
      ]
    },
    {
      "cell_type": "markdown",
      "source": [
        "9) Given a list of numbers (hardcoded in the program), write a Python program to find the largest and\n",
        "smallest element of the list. Define two functions largest_number_< your-student-id > and\n",
        "smallest_number_< your-student-id > in your program. Do not use any built-in function."
      ],
      "metadata": {
        "id": "iBFqU5X2yFl0"
      }
    },
    {
      "cell_type": "code",
      "source": [
        "list = [12,1,4,15,3,8]\n",
        "def largest_number_2019_1_60_34(list):\n",
        "    max = -99999\n",
        "    for i in list:\n",
        "        if i > max:\n",
        "            max=i\n",
        "    return max\n",
        "def smallest_number_2019_1_60_034(list):\n",
        "    min = 99999\n",
        "    for i in list:\n",
        "        if i < min:\n",
        "            min = i\n",
        "    return min\n",
        "print(\"largest element: \",largest_number_2019_1_60_34(list), \"And Smallest element: \", smallest_number_2019_1_60_034(list))"
      ],
      "metadata": {
        "colab": {
          "base_uri": "https://localhost:8080/"
        },
        "id": "uIOpvn12yHAC",
        "outputId": "56adef11-deb7-43b3-a0ab-e48b7ae1deb4"
      },
      "execution_count": null,
      "outputs": [
        {
          "output_type": "stream",
          "name": "stdout",
          "text": [
            "largest element:  15 And Smallest element:  1\n"
          ]
        }
      ]
    },
    {
      "cell_type": "markdown",
      "source": [
        "10) Given a list of numbers (hardcoded in the program), write a Python program to find the second\n",
        "largest element of the list."
      ],
      "metadata": {
        "id": "qEBWSZ7b0sQP"
      }
    },
    {
      "cell_type": "code",
      "source": [
        "list = [12,1,4,15,3,8]\n",
        "list.sort()\n",
        "print(\"Second largest element: \", list[len(list)-2])"
      ],
      "metadata": {
        "colab": {
          "base_uri": "https://localhost:8080/"
        },
        "id": "38AH7_rf0uIB",
        "outputId": "61928f21-053c-48cf-c142-79fbca9c860c"
      },
      "execution_count": null,
      "outputs": [
        {
          "output_type": "stream",
          "name": "stdout",
          "text": [
            "Second largest element:  12\n"
          ]
        }
      ]
    },
    {
      "cell_type": "markdown",
      "source": [
        "11) Given a string, display only those characters which are present at an even index number. Read inputs\n",
        "from the user."
      ],
      "metadata": {
        "id": "PYw7O0nK1fjE"
      }
    },
    {
      "cell_type": "code",
      "source": [
        "str = input(\"input string : \")\n",
        "print(\"even index element : \")\n",
        "for i in range(len(str)):\n",
        "    if i%2==0:\n",
        "        print(str[i] ,end=\"\")"
      ],
      "metadata": {
        "colab": {
          "base_uri": "https://localhost:8080/"
        },
        "id": "iSjvylFP1kZ9",
        "outputId": "dfca6675-584b-4fc3-ddde-c1f284346f79"
      },
      "execution_count": null,
      "outputs": [
        {
          "output_type": "stream",
          "name": "stdout",
          "text": [
            "input string : ring the bell\n",
            "even index element : \n",
            "rn h el"
          ]
        }
      ]
    },
    {
      "cell_type": "markdown",
      "source": [
        "12) Given a string and an integer number n, remove characters from a string starting from zero up to n\n",
        "and return a new string. N must be less than the length of the string. Read inputs from the user. Do\n",
        "not use any built-in function."
      ],
      "metadata": {
        "id": "zZ1-FsJu3hBL"
      }
    },
    {
      "cell_type": "code",
      "source": [
        "str = input(\"input string: \")\n",
        "N = int(input(\"input integer = \"))\n",
        "str1 = \"\"\n",
        "i=0\n",
        "for i in range(len(str)):\n",
        "    if i>=N:\n",
        "        str1=str1+str[i]\n",
        "print(\"new string : \",str1)"
      ],
      "metadata": {
        "colab": {
          "base_uri": "https://localhost:8080/"
        },
        "id": "IamRA7S65Yz_",
        "outputId": "ba40e729-1bed-484e-cec4-f2d224597071"
      },
      "execution_count": null,
      "outputs": [
        {
          "output_type": "stream",
          "name": "stdout",
          "text": [
            "input string: hey there\n",
            "input integer = 4\n",
            "new string :  there\n"
          ]
        }
      ]
    },
    {
      "cell_type": "markdown",
      "source": [
        "13) Given a string, find the count of the substring “CSE303” appeared in the given string. Do not use any\n",
        "built-in function."
      ],
      "metadata": {
        "id": "whxTIqzd6cOM"
      }
    },
    {
      "cell_type": "code",
      "source": [
        "str = 'Statistics for Data Science course code CSE303'\n",
        "substr=\"CSE303\"\n",
        "def count_substr(str,substr):\n",
        "    count=0\n",
        "    for i in str.split():\n",
        "        if i==substr:\n",
        "            count+=1\n",
        "    return count\n",
        "print(\"count of substring CSE303 appeared: \",count_substr(str, substr))"
      ],
      "metadata": {
        "colab": {
          "base_uri": "https://localhost:8080/"
        },
        "id": "gGXpKkyA6fJF",
        "outputId": "19c1f01c-6fee-4650-e5b0-4ba539256100"
      },
      "execution_count": null,
      "outputs": [
        {
          "output_type": "stream",
          "name": "stdout",
          "text": [
            "count of substring CSE303 appeared:  1\n"
          ]
        }
      ]
    },
    {
      "cell_type": "markdown",
      "source": [
        "14 Given a string, write a python program to check if it is palindrome or not. Define a function named\n",
        "palindrome_checker_< your-student-id > in your program."
      ],
      "metadata": {
        "id": "TPXQ2t7u86uz"
      }
    },
    {
      "cell_type": "code",
      "source": [
        "str = \"meme\"\n",
        "def palindrome_checker_2019_1_60_034(str):\n",
        "    s = \"\"\n",
        "    for i in str:\n",
        "        s = i + s\n",
        "    print(s)\n",
        "    if str==s:\n",
        "        print(\"yes, Palindrome\")\n",
        "    else:\n",
        "        print(\"Not a palindrome\")\n",
        "palindrome_checker_2019_1_60_034(str)"
      ],
      "metadata": {
        "colab": {
          "base_uri": "https://localhost:8080/"
        },
        "id": "3YXq_vDG9RTM",
        "outputId": "096f33b7-8adb-4356-cfd1-4d10b850f801"
      },
      "execution_count": null,
      "outputs": [
        {
          "output_type": "stream",
          "name": "stdout",
          "text": [
            "emem\n",
            "Not a palindrome\n"
          ]
        }
      ]
    },
    {
      "cell_type": "markdown",
      "source": [
        "15 Given a two list of numbers (hardcoded in the program), create a new list such that new list should\n",
        "contain only odd numbers from the first list and even numbers from the second list."
      ],
      "metadata": {
        "id": "4mvLTeJu-3CX"
      }
    },
    {
      "cell_type": "code",
      "source": [
        "list1=[12,1,4,15,3,8]\n",
        "list2=[13,2,5,14,7,9]\n",
        "even=[]\n",
        "odd=[]\n",
        "list3=[]\n",
        "def new_list(list1,list2):\n",
        "    for i in list1:\n",
        "        if i%2!=0:\n",
        "            odd.append(i)\n",
        "            list3.append(i)   \n",
        "    for i in list2:\n",
        "        if i%2==0:\n",
        "            even.append(i)\n",
        "            list3.append(i)    \n",
        "    print(\"New List: \",list3)     \n",
        "new_list(list1,list2)"
      ],
      "metadata": {
        "colab": {
          "base_uri": "https://localhost:8080/"
        },
        "id": "92SjaSvs-6it",
        "outputId": "049c9c2d-45fe-476c-9588-191aa308cf62"
      },
      "execution_count": null,
      "outputs": [
        {
          "output_type": "stream",
          "name": "stdout",
          "text": [
            "New List:  [1, 15, 3, 2, 14]\n"
          ]
        }
      ]
    }
  ]
}