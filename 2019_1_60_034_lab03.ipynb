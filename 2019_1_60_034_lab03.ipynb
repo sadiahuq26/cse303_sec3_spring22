{
  "nbformat": 4,
  "nbformat_minor": 0,
  "metadata": {
    "colab": {
      "name": "2019-1-60-034_lab03.ipynb",
      "provenance": [],
      "authorship_tag": "ABX9TyNyHwq4vDdOH6HSh3RBQH/a",
      "include_colab_link": true
    },
    "kernelspec": {
      "name": "python3",
      "display_name": "Python 3"
    },
    "language_info": {
      "name": "python"
    }
  },
  "cells": [
    {
      "cell_type": "markdown",
      "metadata": {
        "id": "view-in-github",
        "colab_type": "text"
      },
      "source": [
        "<a href=\"https://colab.research.google.com/github/sadiahuq26/cse303_sec3_spring22/blob/main/2019_1_60_034_lab03.ipynb\" target=\"_parent\"><img src=\"https://colab.research.google.com/assets/colab-badge.svg\" alt=\"Open In Colab\"/></a>"
      ]
    },
    {
      "cell_type": "markdown",
      "source": [
        "1) Pandas"
      ],
      "metadata": {
        "id": "3AwoXX_qCu-3"
      }
    },
    {
      "cell_type": "code",
      "source": [
        "import pandas as pd"
      ],
      "metadata": {
        "id": "YHhjnMdOCyxW"
      },
      "execution_count": 1,
      "outputs": []
    },
    {
      "cell_type": "code",
      "source": [
        "obj = pd.Series([4,10,-5,15])\n",
        "obj"
      ],
      "metadata": {
        "colab": {
          "base_uri": "https://localhost:8080/"
        },
        "id": "rrvawMKIC8iL",
        "outputId": "308cb0a0-6843-4c60-9dd5-4590f4d7bd89"
      },
      "execution_count": 2,
      "outputs": [
        {
          "output_type": "execute_result",
          "data": {
            "text/plain": [
              "0     4\n",
              "1    10\n",
              "2    -5\n",
              "3    15\n",
              "dtype: int64"
            ]
          },
          "metadata": {},
          "execution_count": 2
        }
      ]
    },
    {
      "cell_type": "code",
      "source": [
        "obj +2"
      ],
      "metadata": {
        "colab": {
          "base_uri": "https://localhost:8080/"
        },
        "id": "HNragDTCC-kT",
        "outputId": "c3fe0e44-92de-4940-ae55-ec993c1d1c1a"
      },
      "execution_count": 3,
      "outputs": [
        {
          "output_type": "execute_result",
          "data": {
            "text/plain": [
              "0     6\n",
              "1    12\n",
              "2    -3\n",
              "3    17\n",
              "dtype: int64"
            ]
          },
          "metadata": {},
          "execution_count": 3
        }
      ]
    },
    {
      "cell_type": "code",
      "source": [
        "obj*2"
      ],
      "metadata": {
        "colab": {
          "base_uri": "https://localhost:8080/"
        },
        "id": "ARIy23Y-DAXT",
        "outputId": "c6131b79-a9b1-4602-fc53-0a01c6fea439"
      },
      "execution_count": 4,
      "outputs": [
        {
          "output_type": "execute_result",
          "data": {
            "text/plain": [
              "0     8\n",
              "1    20\n",
              "2   -10\n",
              "3    30\n",
              "dtype: int64"
            ]
          },
          "metadata": {},
          "execution_count": 4
        }
      ]
    },
    {
      "cell_type": "code",
      "source": [
        "obj%2"
      ],
      "metadata": {
        "colab": {
          "base_uri": "https://localhost:8080/"
        },
        "id": "SLJcB64-DDBT",
        "outputId": "19b72435-ab20-49dd-f597-f9af9d240b2c"
      },
      "execution_count": 5,
      "outputs": [
        {
          "output_type": "execute_result",
          "data": {
            "text/plain": [
              "0    0\n",
              "1    0\n",
              "2    1\n",
              "3    1\n",
              "dtype: int64"
            ]
          },
          "metadata": {},
          "execution_count": 5
        }
      ]
    },
    {
      "cell_type": "code",
      "source": [
        "obj[obj%2==0]"
      ],
      "metadata": {
        "colab": {
          "base_uri": "https://localhost:8080/"
        },
        "id": "SFFv1HuMDEej",
        "outputId": "2f17bdab-6667-4119-841a-e53238e2d8ec"
      },
      "execution_count": 6,
      "outputs": [
        {
          "output_type": "execute_result",
          "data": {
            "text/plain": [
              "0     4\n",
              "1    10\n",
              "dtype: int64"
            ]
          },
          "metadata": {},
          "execution_count": 6
        }
      ]
    },
    {
      "cell_type": "code",
      "source": [
        "sdata = {'Ohio': 35000, 'Texas': 71000, 'Oregon': 16000,\n",
        "'Utah': 5000}\n",
        "obj3 = pd.Series(sdata)\n",
        "print(obj3)"
      ],
      "metadata": {
        "colab": {
          "base_uri": "https://localhost:8080/"
        },
        "id": "zQH4x3SyDJIT",
        "outputId": "15e687bf-e2fe-494c-cd24-b03fcdee590a"
      },
      "execution_count": 7,
      "outputs": [
        {
          "output_type": "stream",
          "name": "stdout",
          "text": [
            "Ohio      35000\n",
            "Texas     71000\n",
            "Oregon    16000\n",
            "Utah       5000\n",
            "dtype: int64\n"
          ]
        }
      ]
    },
    {
      "cell_type": "code",
      "source": [
        "data = {\"v1\":23, \"v2\":34, \"v3\":45, \"v4\":56,\"v5\":67}\n",
        "obj1=pd.Series(data)\n",
        "obj1"
      ],
      "metadata": {
        "colab": {
          "base_uri": "https://localhost:8080/"
        },
        "id": "SumYPJO_DLtk",
        "outputId": "6d63dec4-db54-4a0e-95bb-d4ce5fc451ff"
      },
      "execution_count": 8,
      "outputs": [
        {
          "output_type": "execute_result",
          "data": {
            "text/plain": [
              "v1    23\n",
              "v2    34\n",
              "v3    45\n",
              "v4    56\n",
              "v5    67\n",
              "dtype: int64"
            ]
          },
          "metadata": {},
          "execution_count": 8
        }
      ]
    },
    {
      "cell_type": "markdown",
      "source": [
        "3) Pandas DataFrame"
      ],
      "metadata": {
        "id": "8t_m4bnaDwjE"
      }
    },
    {
      "cell_type": "code",
      "source": [
        "#From List\n",
        "list1 = [['Alice',23,3.5,10],['Bob',24,3.4,6],['Charlie',22,3.9,8]]\n",
        "df = pd.DataFrame(list1)\n",
        "df.columns = ['name','age','cgpa','hoursStudied']\n",
        "print(df.head())"
      ],
      "metadata": {
        "colab": {
          "base_uri": "https://localhost:8080/"
        },
        "id": "Kh3ix_jqDxqM",
        "outputId": "f3bce672-feff-4a69-e34e-a48fdb09b59e"
      },
      "execution_count": 9,
      "outputs": [
        {
          "output_type": "stream",
          "name": "stdout",
          "text": [
            "      name  age  cgpa  hoursStudied\n",
            "0    Alice   23   3.5            10\n",
            "1      Bob   24   3.4             6\n",
            "2  Charlie   22   3.9             8\n"
          ]
        }
      ]
    },
    {
      "cell_type": "code",
      "source": [
        "#From Dictionary\n",
        "dict1 = {'id':[1,2,3],'name':['alice','bob','charlie'],'age':[20, 25, 32]}\n",
        "df1 = pd.DataFrame(dict1)\n",
        "print(df1)"
      ],
      "metadata": {
        "colab": {
          "base_uri": "https://localhost:8080/"
        },
        "id": "ztGkEMLjEBe1",
        "outputId": "3b608e78-1878-4027-ca8b-d5bb7bd13d07"
      },
      "execution_count": 10,
      "outputs": [
        {
          "output_type": "stream",
          "name": "stdout",
          "text": [
            "   id     name  age\n",
            "0   1    alice   20\n",
            "1   2      bob   25\n",
            "2   3  charlie   32\n"
          ]
        }
      ]
    },
    {
      "cell_type": "code",
      "source": [
        "#From CSV File\n",
        "df2 = pd.read_csv('/content/sample_data/sample_data_1.csv', header = None)\n",
        "df2.columns=['id','state','population','murder_rate']\n",
        "print(df2)\n",
        "df2.head() # displays first 5 rows\n",
        "df2.tail() # displays last 5 rows\n",
        "df2.count() # displays number of values for each column"
      ],
      "metadata": {
        "colab": {
          "base_uri": "https://localhost:8080/"
        },
        "id": "s4TP8GLMED5L",
        "outputId": "1a715256-f0a9-4fdd-eef2-aeb43854588b"
      },
      "execution_count": 11,
      "outputs": [
        {
          "output_type": "stream",
          "name": "stdout",
          "text": [
            "   id        state  population  murder_rate\n",
            "0   1      Alabama     4779736          5.7\n",
            "1   2       Alaska      710231          5.6\n",
            "2   3      Arizona     6392017          4.7\n",
            "3   4     Arkansas     2915918          5.6\n",
            "4   5   California    37253956          4.4\n",
            "5   6     Colorado     5029196          2.8\n",
            "6   7  Connecticut     3574097          2.4\n",
            "7   8     Delaware      897934          5.8\n"
          ]
        },
        {
          "output_type": "execute_result",
          "data": {
            "text/plain": [
              "id             8\n",
              "state          8\n",
              "population     8\n",
              "murder_rate    8\n",
              "dtype: int64"
            ]
          },
          "metadata": {},
          "execution_count": 11
        }
      ]
    },
    {
      "cell_type": "markdown",
      "source": [
        "4) Select, Add, Delete, Rename Indices, Rows or Columns of/from a DataFrame"
      ],
      "metadata": {
        "id": "Je91fwUKIwDN"
      }
    },
    {
      "cell_type": "code",
      "source": [
        "#Seleting the first cell\n",
        "print(df1.iloc[0][0])\n",
        "print(df1.loc[0]['name'])"
      ],
      "metadata": {
        "colab": {
          "base_uri": "https://localhost:8080/"
        },
        "id": "kU4E0dgYESe4",
        "outputId": "3dd6ef73-2461-42b6-e6a6-eae801b66825"
      },
      "execution_count": 12,
      "outputs": [
        {
          "output_type": "stream",
          "name": "stdout",
          "text": [
            "1\n",
            "alice\n"
          ]
        }
      ]
    },
    {
      "cell_type": "code",
      "source": [
        "#Selecting a few columns\n",
        "df3=df[['name','cgpa']]\n",
        "print(df3)"
      ],
      "metadata": {
        "colab": {
          "base_uri": "https://localhost:8080/"
        },
        "id": "KMX0M2dzEVEr",
        "outputId": "cd45cc5d-5a8f-49d0-9d2e-e33c05a18126"
      },
      "execution_count": 13,
      "outputs": [
        {
          "output_type": "stream",
          "name": "stdout",
          "text": [
            "      name  cgpa\n",
            "0    Alice   3.5\n",
            "1      Bob   3.4\n",
            "2  Charlie   3.9\n"
          ]
        }
      ]
    },
    {
      "cell_type": "code",
      "source": [
        "#selecting a few rows\n",
        "df4 = df1.loc[1:2]\n",
        "print(df4)\n",
        "df5 = df1.iloc[1:3]\n",
        "print(df5)"
      ],
      "metadata": {
        "colab": {
          "base_uri": "https://localhost:8080/"
        },
        "id": "YNQhG3C2EXNE",
        "outputId": "7f85ddbb-90c4-4c0f-e387-d43213a542c2"
      },
      "execution_count": 14,
      "outputs": [
        {
          "output_type": "stream",
          "name": "stdout",
          "text": [
            "   id     name  age\n",
            "1   2      bob   25\n",
            "2   3  charlie   32\n",
            "   id     name  age\n",
            "1   2      bob   25\n",
            "2   3  charlie   32\n"
          ]
        }
      ]
    },
    {
      "cell_type": "code",
      "source": [
        "#selecting a few rows and columns\n",
        "df4 = df1.loc[1:2,['name','age']]\n",
        "print(df4)\n",
        "df5 = df1.iloc[1:3,[0,1]]\n",
        "print(df5)"
      ],
      "metadata": {
        "colab": {
          "base_uri": "https://localhost:8080/"
        },
        "id": "LesC95gsEaq-",
        "outputId": "2db9a004-9b8b-443c-b2f2-08c5e80c3ca5"
      },
      "execution_count": 15,
      "outputs": [
        {
          "output_type": "stream",
          "name": "stdout",
          "text": [
            "      name  age\n",
            "1      bob   25\n",
            "2  charlie   32\n",
            "   id     name\n",
            "1   2      bob\n",
            "2   3  charlie\n"
          ]
        }
      ]
    },
    {
      "cell_type": "code",
      "source": [
        "#appending two dataframes\n",
        "list1 = [['Alice',23,3.5,10],['Bob',24,3.4,6],['Charlie',22,3.9,8]]\n",
        "df = pd.DataFrame(list1)\n",
        "df.columns = ['name','age','cgpa','hoursStudied']\n",
        "list2 = [['Don',21,2.5,2],['Elton',25,2.75,4]]\n",
        "df11 = pd.DataFrame(list2)\n",
        "df11.columns = ['name','age','cgpa','hoursStudied']\n",
        "df12 = df.append(df11, ignore_index=True)\n",
        "print(df12)"
      ],
      "metadata": {
        "colab": {
          "base_uri": "https://localhost:8080/"
        },
        "id": "p97iqAT0EdRT",
        "outputId": "89b9e4df-6762-456a-92f6-99b3b9126c82"
      },
      "execution_count": 16,
      "outputs": [
        {
          "output_type": "stream",
          "name": "stdout",
          "text": [
            "      name  age  cgpa  hoursStudied\n",
            "0    Alice   23  3.50            10\n",
            "1      Bob   24  3.40             6\n",
            "2  Charlie   22  3.90             8\n",
            "3      Don   21  2.50             2\n",
            "4    Elton   25  2.75             4\n"
          ]
        }
      ]
    },
    {
      "cell_type": "markdown",
      "source": [
        "5) Visualization"
      ],
      "metadata": {
        "id": "YS4qMOnbJHu1"
      }
    },
    {
      "cell_type": "code",
      "source": [
        "df12.boxplot(column=['age','cgpa'])"
      ],
      "metadata": {
        "colab": {
          "base_uri": "https://localhost:8080/",
          "height": 282
        },
        "id": "NAzfDBJnHF_G",
        "outputId": "77e4b717-fdbb-49e0-d52a-22b0a175978e"
      },
      "execution_count": 44,
      "outputs": [
        {
          "output_type": "execute_result",
          "data": {
            "text/plain": [
              "<matplotlib.axes._subplots.AxesSubplot at 0x7f001833ed90>"
            ]
          },
          "metadata": {},
          "execution_count": 44
        },
        {
          "output_type": "display_data",
          "data": {
            "image/png": "[encoded data removed]",
            "text/plain": [
              "<Figure size 432x288 with 1 Axes>"
            ]
          },
          "metadata": {
            "needs_background": "light"
          }
        }
      ]
    },
    {
      "cell_type": "code",
      "source": [
        "df12.hist(column = ['cgpa'], bins= 5)"
      ],
      "metadata": {
        "colab": {
          "base_uri": "https://localhost:8080/",
          "height": 316
        },
        "id": "8c3IoGzhG2ZF",
        "outputId": "8cc0bcf8-7e81-4aba-b206-30a47da3b5ab"
      },
      "execution_count": 42,
      "outputs": [
        {
          "output_type": "execute_result",
          "data": {
            "text/plain": [
              "array([[<matplotlib.axes._subplots.AxesSubplot object at 0x7f00186afa50>]],\n",
              "      dtype=object)"
            ]
          },
          "metadata": {},
          "execution_count": 42
        },
        {
          "output_type": "display_data",
          "data": {
            "image/png": "[encoded data removed]",
            "text/plain": [
              "<Figure size 432x288 with 1 Axes>"
            ]
          },
          "metadata": {
            "needs_background": "light"
          }
        }
      ]
    },
    {
      "cell_type": "code",
      "source": [
        "df12['age'].value_counts().plot(kind = 'bar')"
      ],
      "metadata": {
        "colab": {
          "base_uri": "https://localhost:8080/",
          "height": 286
        },
        "id": "Q-4KjzBBHa-3",
        "outputId": "b5355eb7-efce-47f1-89a0-844a77e583b1"
      },
      "execution_count": 45,
      "outputs": [
        {
          "output_type": "execute_result",
          "data": {
            "text/plain": [
              "<matplotlib.axes._subplots.AxesSubplot at 0x7f00182bfb10>"
            ]
          },
          "metadata": {},
          "execution_count": 45
        },
        {
          "output_type": "display_data",
          "data": {
            "image/png": "[encoded data removed]",
            "text/plain": [
              "<Figure size 432x288 with 1 Axes>"
            ]
          },
          "metadata": {
            "needs_background": "light"
          }
        }
      ]
    },
    {
      "cell_type": "code",
      "source": [
        "df12['cgpa'].value_counts().plot(kind = 'pie')"
      ],
      "metadata": {
        "colab": {
          "base_uri": "https://localhost:8080/",
          "height": 266
        },
        "id": "4Mf6ZzeQHkKF",
        "outputId": "e67909af-824f-4474-f0a8-83feb86cbcde"
      },
      "execution_count": 47,
      "outputs": [
        {
          "output_type": "execute_result",
          "data": {
            "text/plain": [
              "<matplotlib.axes._subplots.AxesSubplot at 0x7f00181dc390>"
            ]
          },
          "metadata": {},
          "execution_count": 47
        },
        {
          "output_type": "display_data",
          "data": {
            "image/png": "[encoded data removed]",
            "text/plain": [
              "<Figure size 432x288 with 1 Axes>"
            ]
          },
          "metadata": {}
        }
      ]
    },
    {
      "cell_type": "code",
      "source": [
        "df12.plot.scatter(x='hoursStudied',y='cgpa')"
      ],
      "metadata": {
        "colab": {
          "base_uri": "https://localhost:8080/",
          "height": 296
        },
        "id": "TY1tHZn3Hx4F",
        "outputId": "353c2446-7df8-47cc-cbc7-28a6199b80d9"
      },
      "execution_count": 49,
      "outputs": [
        {
          "output_type": "execute_result",
          "data": {
            "text/plain": [
              "<matplotlib.axes._subplots.AxesSubplot at 0x7f00180b5e50>"
            ]
          },
          "metadata": {},
          "execution_count": 49
        },
        {
          "output_type": "display_data",
          "data": {
            "image/png": "[encoded data removed]",
            "text/plain": [
              "<Figure size 432x288 with 1 Axes>"
            ]
          },
          "metadata": {
            "needs_background": "light"
          }
        }
      ]
    },
    {
      "cell_type": "markdown",
      "source": [
        "Weather data"
      ],
      "metadata": {
        "id": "jyAgFA4mEoDz"
      }
    },
    {
      "cell_type": "code",
      "source": [
        "df = pd.read_csv('/content/sample_data/weather.csv')\n",
        "print(type(df))\n",
        "print(df)"
      ],
      "metadata": {
        "colab": {
          "base_uri": "https://localhost:8080/"
        },
        "id": "FBoc1eTZEozD",
        "outputId": "62742806-1b31-4b59-e011-f11ded6b8a96"
      },
      "execution_count": 17,
      "outputs": [
        {
          "output_type": "stream",
          "name": "stdout",
          "text": [
            "<class 'pandas.core.frame.DataFrame'>\n",
            "     outlook   temperature   humidity   windy  play\n",
            "0      sunny            85         85   False    no\n",
            "1      sunny            80         90    True    no\n",
            "2   overcast            83         86   False   yes\n",
            "3      rainy            70         96   False   yes\n",
            "4      rainy            68         80   False   yes\n",
            "5      rainy            65         70    True    no\n",
            "6   overcast            64         65    True   yes\n",
            "7      sunny            72         95   False    no\n",
            "8      sunny            69         70   False   yes\n",
            "9      rainy            75         80   False   yes\n",
            "10     sunny            75         70    True   yes\n",
            "11  overcast            72         90    True   yes\n",
            "12  overcast            81         75   False   yes\n",
            "13     rainy            71         91    True    no\n",
            "14     rainy           100         70    True    no\n",
            "15     sunny            45         70    True    no\n"
          ]
        }
      ]
    },
    {
      "cell_type": "code",
      "source": [
        "# first 5 records\n",
        "print(df.head())"
      ],
      "metadata": {
        "colab": {
          "base_uri": "https://localhost:8080/"
        },
        "id": "VUe3jt19FASj",
        "outputId": "b01c8154-9ad7-48c3-ad0f-1f1c6b691ca4"
      },
      "execution_count": 18,
      "outputs": [
        {
          "output_type": "stream",
          "name": "stdout",
          "text": [
            "    outlook   temperature   humidity   windy  play\n",
            "0     sunny            85         85   False    no\n",
            "1     sunny            80         90    True    no\n",
            "2  overcast            83         86   False   yes\n",
            "3     rainy            70         96   False   yes\n",
            "4     rainy            68         80   False   yes\n"
          ]
        }
      ]
    },
    {
      "cell_type": "code",
      "source": [
        "# last 5 records\n",
        "print(df.tail())"
      ],
      "metadata": {
        "colab": {
          "base_uri": "https://localhost:8080/"
        },
        "id": "F2xBld-iFEne",
        "outputId": "8d0f523e-8c06-4d76-c6cb-2ef470adddb5"
      },
      "execution_count": 19,
      "outputs": [
        {
          "output_type": "stream",
          "name": "stdout",
          "text": [
            "     outlook   temperature   humidity   windy  play\n",
            "11  overcast            72         90    True   yes\n",
            "12  overcast            81         75   False   yes\n",
            "13     rainy            71         91    True    no\n",
            "14     rainy           100         70    True    no\n",
            "15     sunny            45         70    True    no\n"
          ]
        }
      ]
    },
    {
      "cell_type": "code",
      "source": [
        "# description of the dataset\n",
        "print(df.describe())"
      ],
      "metadata": {
        "colab": {
          "base_uri": "https://localhost:8080/"
        },
        "id": "-OYVd2rPFGwE",
        "outputId": "dcf220a7-9948-42ba-a356-440627aaa7cc"
      },
      "execution_count": 20,
      "outputs": [
        {
          "output_type": "stream",
          "name": "stdout",
          "text": [
            "        temperature   humidity\n",
            "count     16.000000   16.00000\n",
            "mean      73.437500   80.18750\n",
            "std       11.764176   10.36802\n",
            "min       45.000000   65.00000\n",
            "25%       68.750000   70.00000\n",
            "50%       72.000000   80.00000\n",
            "75%       80.250000   90.00000\n",
            "max      100.000000   96.00000\n"
          ]
        }
      ]
    },
    {
      "cell_type": "code",
      "source": [
        "df.columns = ['outlook','temperature','humidity','windy','play']"
      ],
      "metadata": {
        "id": "uGXBuiwbFJET"
      },
      "execution_count": 21,
      "outputs": []
    },
    {
      "cell_type": "code",
      "source": [
        "# Series\n",
        "t = df['temperature']\n",
        "print(type(t))\n",
        "print(t)"
      ],
      "metadata": {
        "colab": {
          "base_uri": "https://localhost:8080/"
        },
        "id": "RDmDRTKPFLOt",
        "outputId": "5ab59772-c555-4e7f-ea70-0863de26b26a"
      },
      "execution_count": 22,
      "outputs": [
        {
          "output_type": "stream",
          "name": "stdout",
          "text": [
            "<class 'pandas.core.series.Series'>\n",
            "0      85\n",
            "1      80\n",
            "2      83\n",
            "3      70\n",
            "4      68\n",
            "5      65\n",
            "6      64\n",
            "7      72\n",
            "8      69\n",
            "9      75\n",
            "10     75\n",
            "11     72\n",
            "12     81\n",
            "13     71\n",
            "14    100\n",
            "15     45\n",
            "Name: temperature, dtype: int64\n"
          ]
        }
      ]
    },
    {
      "cell_type": "code",
      "source": [
        "sum = 0\n",
        "for value in t:\n",
        "    sum+=value\n",
        "print(sum)"
      ],
      "metadata": {
        "colab": {
          "base_uri": "https://localhost:8080/"
        },
        "id": "Ohev2OE_FNlT",
        "outputId": "9cc0b2b1-5b8e-4987-f81b-b56d90af9cd6"
      },
      "execution_count": 23,
      "outputs": [
        {
          "output_type": "stream",
          "name": "stdout",
          "text": [
            "1175\n"
          ]
        }
      ]
    },
    {
      "cell_type": "code",
      "source": [
        "df1 = df[['temperature','humidity']]\n",
        "print(df1)"
      ],
      "metadata": {
        "colab": {
          "base_uri": "https://localhost:8080/"
        },
        "id": "7nAwSztEFQaF",
        "outputId": "3a6d2a66-144a-41a0-a351-94aa909689a2"
      },
      "execution_count": 24,
      "outputs": [
        {
          "output_type": "stream",
          "name": "stdout",
          "text": [
            "    temperature  humidity\n",
            "0            85        85\n",
            "1            80        90\n",
            "2            83        86\n",
            "3            70        96\n",
            "4            68        80\n",
            "5            65        70\n",
            "6            64        65\n",
            "7            72        95\n",
            "8            69        70\n",
            "9            75        80\n",
            "10           75        70\n",
            "11           72        90\n",
            "12           81        75\n",
            "13           71        91\n",
            "14          100        70\n",
            "15           45        70\n"
          ]
        }
      ]
    },
    {
      "cell_type": "code",
      "source": [
        "df2 = df.loc[0:9,['temperature','humidity']]\n",
        "print(df2)"
      ],
      "metadata": {
        "colab": {
          "base_uri": "https://localhost:8080/"
        },
        "id": "tqdgsQYkFSg_",
        "outputId": "03728f26-ec2d-41ae-cd4d-2714b4903515"
      },
      "execution_count": 25,
      "outputs": [
        {
          "output_type": "stream",
          "name": "stdout",
          "text": [
            "   temperature  humidity\n",
            "0           85        85\n",
            "1           80        90\n",
            "2           83        86\n",
            "3           70        96\n",
            "4           68        80\n",
            "5           65        70\n",
            "6           64        65\n",
            "7           72        95\n",
            "8           69        70\n",
            "9           75        80\n"
          ]
        }
      ]
    },
    {
      "cell_type": "code",
      "source": [
        "df3 = df.iloc[0:10,[1,2]]\n",
        "print(df3)"
      ],
      "metadata": {
        "colab": {
          "base_uri": "https://localhost:8080/"
        },
        "id": "KilBh0TUFU3o",
        "outputId": "40c19593-72f7-4049-b919-d1be3c24f898"
      },
      "execution_count": 26,
      "outputs": [
        {
          "output_type": "stream",
          "name": "stdout",
          "text": [
            "   temperature  humidity\n",
            "0           85        85\n",
            "1           80        90\n",
            "2           83        86\n",
            "3           70        96\n",
            "4           68        80\n",
            "5           65        70\n",
            "6           64        65\n",
            "7           72        95\n",
            "8           69        70\n",
            "9           75        80\n"
          ]
        }
      ]
    },
    {
      "cell_type": "code",
      "source": [
        "df4 = df.iloc[1::2,[0,1,3]]\n",
        "print(df4)"
      ],
      "metadata": {
        "colab": {
          "base_uri": "https://localhost:8080/"
        },
        "id": "AZavTk8TFbtj",
        "outputId": "6df0a9da-73d8-47c4-c962-892c998db437"
      },
      "execution_count": 27,
      "outputs": [
        {
          "output_type": "stream",
          "name": "stdout",
          "text": [
            "     outlook  temperature  windy\n",
            "1      sunny           80   True\n",
            "3      rainy           70  False\n",
            "5      rainy           65   True\n",
            "7      sunny           72  False\n",
            "9      rainy           75  False\n",
            "11  overcast           72   True\n",
            "13     rainy           71   True\n",
            "15     sunny           45   True\n"
          ]
        }
      ]
    },
    {
      "cell_type": "code",
      "source": [
        "temperature = df[['temperature']]\n",
        "print(\"Mean: \" , temperature.mean())\n",
        "print(\"Standard Deviation: \", temperature.std())\n",
        "print(\"Variance: \", temperature.var())\n",
        "print(\"Lower Quartile: \" , temperature.quantile(0.25))\n",
        "print(\"Median: \", temperature.quantile(0.5))\n",
        "print(\"Median: \" , temperature.median())\n",
        "print(\"Upper Quartile: \" , temperature.quantile(0.75))\n",
        "print(\"Skewness: \" , temperature.skew())\n",
        "print(\"Kurtosis: \" , temperature.kurt())\n",
        "print(\"Min: \", temperature.min())\n",
        "print(\"Max: \", temperature.max())"
      ],
      "metadata": {
        "colab": {
          "base_uri": "https://localhost:8080/"
        },
        "id": "UtAQHDgwFecy",
        "outputId": "d01a97cd-468c-4109-f89d-24990d7422e3"
      },
      "execution_count": 28,
      "outputs": [
        {
          "output_type": "stream",
          "name": "stdout",
          "text": [
            "Mean:  temperature    73.4375\n",
            "dtype: float64\n",
            "Standard Deviation:  temperature    11.764176\n",
            "dtype: float64\n",
            "Variance:  temperature    138.395833\n",
            "dtype: float64\n",
            "Lower Quartile:  temperature    68.75\n",
            "Name: 0.25, dtype: float64\n",
            "Median:  temperature    72.0\n",
            "Name: 0.5, dtype: float64\n",
            "Median:  temperature    72.0\n",
            "dtype: float64\n",
            "Upper Quartile:  temperature    80.25\n",
            "Name: 0.75, dtype: float64\n",
            "Skewness:  temperature   -0.13398\n",
            "dtype: float64\n",
            "Kurtosis:  temperature    2.521107\n",
            "dtype: float64\n",
            "Min:  temperature    45\n",
            "dtype: int64\n",
            "Max:  temperature    100\n",
            "dtype: int64\n"
          ]
        }
      ]
    },
    {
      "cell_type": "code",
      "source": [
        "df.hist(column=['temperature'], bins = 5)"
      ],
      "metadata": {
        "colab": {
          "base_uri": "https://localhost:8080/",
          "height": 316
        },
        "id": "_OPxncEKFh5j",
        "outputId": "d1976890-a789-441c-bca9-3531be6f8e5e"
      },
      "execution_count": 29,
      "outputs": [
        {
          "output_type": "execute_result",
          "data": {
            "text/plain": [
              "array([[<matplotlib.axes._subplots.AxesSubplot object at 0x7f0018d62590>]],\n",
              "      dtype=object)"
            ]
          },
          "metadata": {},
          "execution_count": 29
        },
        {
          "output_type": "display_data",
          "data": {
            "image/png": "[encoded data removed]",
            "text/plain": [
              "<Figure size 432x288 with 1 Axes>"
            ]
          },
          "metadata": {
            "needs_background": "light"
          }
        }
      ]
    },
    {
      "cell_type": "code",
      "source": [
        "df.hist(column='humidity', bins = 5)"
      ],
      "metadata": {
        "colab": {
          "base_uri": "https://localhost:8080/",
          "height": 316
        },
        "id": "QH-KyQkSFkXr",
        "outputId": "fb550d25-7ca1-44c8-dcad-5ce150b8784e"
      },
      "execution_count": 30,
      "outputs": [
        {
          "output_type": "execute_result",
          "data": {
            "text/plain": [
              "array([[<matplotlib.axes._subplots.AxesSubplot object at 0x7f0018cb2cd0>]],\n",
              "      dtype=object)"
            ]
          },
          "metadata": {},
          "execution_count": 30
        },
        {
          "output_type": "display_data",
          "data": {
            "image/png": "[encoded data removed]",
            "text/plain": [
              "<Figure size 432x288 with 1 Axes>"
            ]
          },
          "metadata": {
            "needs_background": "light"
          }
        }
      ]
    },
    {
      "cell_type": "code",
      "source": [
        "humidity = df[['humidity']]\n",
        "print(\"Mean: \" , humidity.mean())\n",
        "print(\"Standard Deviation: \", humidity.std())\n",
        "print(\"Variance: \", humidity.var())\n",
        "print(\"Lower Quartile: \" , humidity.quantile(0.25))\n",
        "print(\"Median: \", humidity.quantile(0.5))\n",
        "print(\"Median: \" , humidity.median())\n",
        "print(\"Upper Quartile: \" , humidity.quantile(0.75))\n",
        "print(\"Skewness: \" , humidity.skew())\n",
        "print(\"Kurtosis: \" , humidity.kurt())\n",
        "print(\"Min: \", humidity.min())\n",
        "print(\"Max: \", humidity.max())"
      ],
      "metadata": {
        "colab": {
          "base_uri": "https://localhost:8080/"
        },
        "id": "MTlu0-iVFnDj",
        "outputId": "9d1ad595-8669-4fd7-be4a-055f1566bf5a"
      },
      "execution_count": 31,
      "outputs": [
        {
          "output_type": "stream",
          "name": "stdout",
          "text": [
            "Mean:  humidity    80.1875\n",
            "dtype: float64\n",
            "Standard Deviation:  humidity    10.36802\n",
            "dtype: float64\n",
            "Variance:  humidity    107.495833\n",
            "dtype: float64\n",
            "Lower Quartile:  humidity    70.0\n",
            "Name: 0.25, dtype: float64\n",
            "Median:  humidity    80.0\n",
            "Name: 0.5, dtype: float64\n",
            "Median:  humidity    80.0\n",
            "dtype: float64\n",
            "Upper Quartile:  humidity    90.0\n",
            "Name: 0.75, dtype: float64\n",
            "Skewness:  humidity    0.118669\n",
            "dtype: float64\n",
            "Kurtosis:  humidity   -1.533119\n",
            "dtype: float64\n",
            "Min:  humidity    65\n",
            "dtype: int64\n",
            "Max:  humidity    96\n",
            "dtype: int64\n"
          ]
        }
      ]
    },
    {
      "cell_type": "code",
      "source": [
        "list1 = [[1,0], [1,1], [2,2], [2,3], [2,3], \n",
        "         [2,4], [3,4], [3,5], [4,6], [5,7]]\n",
        "print(list1)"
      ],
      "metadata": {
        "colab": {
          "base_uri": "https://localhost:8080/"
        },
        "id": "1ATLl7cbFtnF",
        "outputId": "88aec153-6a4b-4ce3-aaa9-c57b480cbad5"
      },
      "execution_count": 32,
      "outputs": [
        {
          "output_type": "stream",
          "name": "stdout",
          "text": [
            "[[1, 0], [1, 1], [2, 2], [2, 3], [2, 3], [2, 4], [3, 4], [3, 5], [4, 6], [5, 7]]\n"
          ]
        }
      ]
    },
    {
      "cell_type": "code",
      "source": [
        "df_list1 = pd.DataFrame(list1, columns = ['x','y'])\n",
        "print(df_list1)"
      ],
      "metadata": {
        "colab": {
          "base_uri": "https://localhost:8080/"
        },
        "id": "J7Hn_EfgFw-V",
        "outputId": "b1d1c35e-5e98-40c8-eb9d-922a2bfec2c7"
      },
      "execution_count": 33,
      "outputs": [
        {
          "output_type": "stream",
          "name": "stdout",
          "text": [
            "   x  y\n",
            "0  1  0\n",
            "1  1  1\n",
            "2  2  2\n",
            "3  2  3\n",
            "4  2  3\n",
            "5  2  4\n",
            "6  3  4\n",
            "7  3  5\n",
            "8  4  6\n",
            "9  5  7\n"
          ]
        }
      ]
    },
    {
      "cell_type": "code",
      "source": [
        "df_list1.hist(column = ['x'], bins = 5)"
      ],
      "metadata": {
        "colab": {
          "base_uri": "https://localhost:8080/",
          "height": 316
        },
        "id": "AQAyjn5cFzGe",
        "outputId": "c8e85f74-0076-40b6-fd8a-924453fc664b"
      },
      "execution_count": 34,
      "outputs": [
        {
          "output_type": "execute_result",
          "data": {
            "text/plain": [
              "array([[<matplotlib.axes._subplots.AxesSubplot object at 0x7f001877dfd0>]],\n",
              "      dtype=object)"
            ]
          },
          "metadata": {},
          "execution_count": 34
        },
        {
          "output_type": "display_data",
          "data": {
            "image/png": "[encoded data removed]",
            "text/plain": [
              "<Figure size 432x288 with 1 Axes>"
            ]
          },
          "metadata": {
            "needs_background": "light"
          }
        }
      ]
    },
    {
      "cell_type": "code",
      "source": [
        "print('Skew: ', df_list1[['x']].skew())"
      ],
      "metadata": {
        "colab": {
          "base_uri": "https://localhost:8080/"
        },
        "id": "xXzE2JlaF1JE",
        "outputId": "754ae6ac-6455-4293-e0a2-9b77f16950a0"
      },
      "execution_count": 35,
      "outputs": [
        {
          "output_type": "stream",
          "name": "stdout",
          "text": [
            "Skew:  x    0.815005\n",
            "dtype: float64\n"
          ]
        }
      ]
    },
    {
      "cell_type": "code",
      "source": [
        "df_list1.hist(column = ['y'], bins = 8)"
      ],
      "metadata": {
        "colab": {
          "base_uri": "https://localhost:8080/",
          "height": 316
        },
        "id": "XyTKnMVKF3Ba",
        "outputId": "110505b2-cae9-48eb-da66-c41dc79ebe95"
      },
      "execution_count": 36,
      "outputs": [
        {
          "output_type": "execute_result",
          "data": {
            "text/plain": [
              "array([[<matplotlib.axes._subplots.AxesSubplot object at 0x7f00186af190>]],\n",
              "      dtype=object)"
            ]
          },
          "metadata": {},
          "execution_count": 36
        },
        {
          "output_type": "display_data",
          "data": {
            "image/png": "[encoded data removed]",
            "text/plain": [
              "<Figure size 432x288 with 1 Axes>"
            ]
          },
          "metadata": {
            "needs_background": "light"
          }
        }
      ]
    },
    {
      "cell_type": "code",
      "source": [
        "print('Skew: ', df_list1[['y']].skew())"
      ],
      "metadata": {
        "colab": {
          "base_uri": "https://localhost:8080/"
        },
        "id": "NP8qsdMRF5W7",
        "outputId": "33d38976-cf8d-4377-ffda-a58f58f5c8b8"
      },
      "execution_count": 37,
      "outputs": [
        {
          "output_type": "stream",
          "name": "stdout",
          "text": [
            "Skew:  y    0.0\n",
            "dtype: float64\n"
          ]
        }
      ]
    },
    {
      "cell_type": "code",
      "source": [
        "print('Kurt - X: ', df_list1[['x']].kurt())\n",
        "print('Kurt - Y: ', df_list1[['y']].kurt())"
      ],
      "metadata": {
        "colab": {
          "base_uri": "https://localhost:8080/"
        },
        "id": "01TSkypTF7HT",
        "outputId": "0e2baf09-1c97-4880-e5f9-8be55818bae2"
      },
      "execution_count": 38,
      "outputs": [
        {
          "output_type": "stream",
          "name": "stdout",
          "text": [
            "Kurt - X:  x    0.25378\n",
            "dtype: float64\n",
            "Kurt - Y:  y   -0.53564\n",
            "dtype: float64\n"
          ]
        }
      ]
    },
    {
      "cell_type": "code",
      "source": [
        "df_list1.plot.scatter(x = \"x\", y = \"y\")"
      ],
      "metadata": {
        "colab": {
          "base_uri": "https://localhost:8080/",
          "height": 296
        },
        "id": "lV06DMPWF9wz",
        "outputId": "48138ee0-9bfb-4e7d-d18e-92682dce91fd"
      },
      "execution_count": 39,
      "outputs": [
        {
          "output_type": "execute_result",
          "data": {
            "text/plain": [
              "<matplotlib.axes._subplots.AxesSubplot at 0x7f0018684650>"
            ]
          },
          "metadata": {},
          "execution_count": 39
        },
        {
          "output_type": "display_data",
          "data": {
            "image/png": "[encoded data removed]",
            "text/plain": [
              "<Figure size 432x288 with 1 Axes>"
            ]
          },
          "metadata": {
            "needs_background": "light"
          }
        }
      ]
    },
    {
      "cell_type": "code",
      "source": [
        "df_list1.boxplot(column = ['x', 'y'])"
      ],
      "metadata": {
        "id": "-IskbMyTF_vE"
      },
      "execution_count": null,
      "outputs": []
    }
  ]
}