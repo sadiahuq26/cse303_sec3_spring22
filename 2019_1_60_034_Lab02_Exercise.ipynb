{
  "nbformat": 4,
  "nbformat_minor": 0,
  "metadata": {
    "colab": {
      "name": "2019-1-60-034_Lab02_Exercise.ipynb",
      "provenance": [],
      "authorship_tag": "ABX9TyN5SoraL2ni576f2FShbYAP",
      "include_colab_link": true
    },
    "kernelspec": {
      "name": "python3",
      "display_name": "Python 3"
    },
    "language_info": {
      "name": "python"
    }
  },
  "cells": [
    {
      "cell_type": "markdown",
      "metadata": {
        "id": "view-in-github",
        "colab_type": "text"
      },
      "source": [
        "<a href=\"https://colab.research.google.com/github/sadiahuq26/cse303_sec3_spring22/blob/main/2019_1_60_034_Lab02_Exercise.ipynb\" target=\"_parent\"><img src=\"https://colab.research.google.com/assets/colab-badge.svg\" alt=\"Open In Colab\"/></a>"
      ]
    },
    {
      "cell_type": "markdown",
      "source": [
        "1) Find all of the numbers from 1–1000 that are divisible by 8"
      ],
      "metadata": {
        "id": "kYiZC-Adh2nH"
      }
    },
    {
      "cell_type": "code",
      "source": [
        "number = [i for i in range(1, 1001) if i % 8 == 0]\n",
        "print('All of the numbers from 1–1000 that are divisible by 8: ')\n",
        "print(number)"
      ],
      "metadata": {
        "colab": {
          "base_uri": "https://localhost:8080/"
        },
        "id": "btgxCHtXh6Ku",
        "outputId": "168adfdf-07aa-4bc7-87c3-e9876f96cd6d"
      },
      "execution_count": 6,
      "outputs": [
        {
          "output_type": "stream",
          "name": "stdout",
          "text": [
            "All of the numbers from 1–1000 that are divisible by 8 \n",
            "[8, 16, 24, 32, 40, 48, 56, 64, 72, 80, 88, 96, 104, 112, 120, 128, 136, 144, 152, 160, 168, 176, 184, 192, 200, 208, 216, 224, 232, 240, 248, 256, 264, 272, 280, 288, 296, 304, 312, 320, 328, 336, 344, 352, 360, 368, 376, 384, 392, 400, 408, 416, 424, 432, 440, 448, 456, 464, 472, 480, 488, 496, 504, 512, 520, 528, 536, 544, 552, 560, 568, 576, 584, 592, 600, 608, 616, 624, 632, 640, 648, 656, 664, 672, 680, 688, 696, 704, 712, 720, 728, 736, 744, 752, 760, 768, 776, 784, 792, 800, 808, 816, 824, 832, 840, 848, 856, 864, 872, 880, 888, 896, 904, 912, 920, 928, 936, 944, 952, 960, 968, 976, 984, 992, 1000]\n"
          ]
        }
      ]
    },
    {
      "cell_type": "markdown",
      "source": [
        "2) Find all of the numbers from 1–1000 that have a 6 in them"
      ],
      "metadata": {
        "id": "JKSnvL1elfFF"
      }
    },
    {
      "cell_type": "code",
      "source": [
        "number = [i for i in range(1, 1001) if '6' in str(i)]\n",
        "print('All of the numbers from 1–1000 that have a 6 in them: ')\n",
        "print(number)"
      ],
      "metadata": {
        "colab": {
          "base_uri": "https://localhost:8080/"
        },
        "id": "sLdJc58wlk-s",
        "outputId": "d10a4bd4-8ecb-4aba-c7ad-bb0fc1da0cce"
      },
      "execution_count": 7,
      "outputs": [
        {
          "output_type": "stream",
          "name": "stdout",
          "text": [
            "All of the numbers from 1–1000 that have a 6 in them: \n",
            "[6, 16, 26, 36, 46, 56, 60, 61, 62, 63, 64, 65, 66, 67, 68, 69, 76, 86, 96, 106, 116, 126, 136, 146, 156, 160, 161, 162, 163, 164, 165, 166, 167, 168, 169, 176, 186, 196, 206, 216, 226, 236, 246, 256, 260, 261, 262, 263, 264, 265, 266, 267, 268, 269, 276, 286, 296, 306, 316, 326, 336, 346, 356, 360, 361, 362, 363, 364, 365, 366, 367, 368, 369, 376, 386, 396, 406, 416, 426, 436, 446, 456, 460, 461, 462, 463, 464, 465, 466, 467, 468, 469, 476, 486, 496, 506, 516, 526, 536, 546, 556, 560, 561, 562, 563, 564, 565, 566, 567, 568, 569, 576, 586, 596, 600, 601, 602, 603, 604, 605, 606, 607, 608, 609, 610, 611, 612, 613, 614, 615, 616, 617, 618, 619, 620, 621, 622, 623, 624, 625, 626, 627, 628, 629, 630, 631, 632, 633, 634, 635, 636, 637, 638, 639, 640, 641, 642, 643, 644, 645, 646, 647, 648, 649, 650, 651, 652, 653, 654, 655, 656, 657, 658, 659, 660, 661, 662, 663, 664, 665, 666, 667, 668, 669, 670, 671, 672, 673, 674, 675, 676, 677, 678, 679, 680, 681, 682, 683, 684, 685, 686, 687, 688, 689, 690, 691, 692, 693, 694, 695, 696, 697, 698, 699, 706, 716, 726, 736, 746, 756, 760, 761, 762, 763, 764, 765, 766, 767, 768, 769, 776, 786, 796, 806, 816, 826, 836, 846, 856, 860, 861, 862, 863, 864, 865, 866, 867, 868, 869, 876, 886, 896, 906, 916, 926, 936, 946, 956, 960, 961, 962, 963, 964, 965, 966, 967, 968, 969, 976, 986, 996]\n"
          ]
        }
      ]
    },
    {
      "cell_type": "markdown",
      "source": [
        "3) Count the number of spaces in a string (use string above)."
      ],
      "metadata": {
        "id": "zrb3TwrXmAgR"
      }
    },
    {
      "cell_type": "code",
      "source": [
        "str = \"Practice Problems to Drill List Comprehension in Your Head.\"\n",
        "print(\"The number of spaces in a string:\", str.count(\" \"))"
      ],
      "metadata": {
        "colab": {
          "base_uri": "https://localhost:8080/"
        },
        "id": "ItHdr_WqmDJc",
        "outputId": "f21151ee-2c5a-48c8-ab91-bd707f50218b"
      },
      "execution_count": 20,
      "outputs": [
        {
          "output_type": "stream",
          "name": "stdout",
          "text": [
            "The number of spaces in a string: 8\n"
          ]
        }
      ]
    },
    {
      "cell_type": "markdown",
      "source": [
        "4) Remove all of the vowels in a string (use string above)."
      ],
      "metadata": {
        "id": "vhtF1wq4mhft"
      }
    },
    {
      "cell_type": "code",
      "source": [
        "def Vowels(str):\n",
        "    vowels1 = [ 'A', 'a', 'E', 'e', 'I', 'i', 'O', 'o', 'U', 'u']\n",
        "    if str not in vowels1:\n",
        "        return True\n",
        "    else:\n",
        "        return False\n",
        "str = \"Practice Problems to Drill List Comprehension in Your Head.\"\n",
        "Vowels = filter(Vowels, str)\n",
        "print('Remove all of the vowels in a string: ', end=\"\")\n",
        "for vowel in Vowels:\n",
        "    print(vowel, end=\"\")"
      ],
      "metadata": {
        "colab": {
          "base_uri": "https://localhost:8080/"
        },
        "id": "40valnufmmHA",
        "outputId": "fb01a299-4422-4264-d119-3a2984789d4f"
      },
      "execution_count": 19,
      "outputs": [
        {
          "output_type": "stream",
          "name": "stdout",
          "text": [
            "Remove all of the vowels in a string: Prctc Prblms t Drll Lst Cmprhnsn n Yr Hd."
          ]
        }
      ]
    },
    {
      "cell_type": "markdown",
      "source": [
        "5) Find all of the words in a string that are less than 5 letters (use string above)"
      ],
      "metadata": {
        "id": "l56qmlC0oARe"
      }
    },
    {
      "cell_type": "code",
      "source": [
        "str = \"Practice Problems to Drill List Comprehension in Your Head\"\n",
        "letter = str.split()\n",
        "word = [i for i in letter if len(i) < 5]\n",
        "print(\"All of the words in a string that are less than 5 letters: \", end=\"\")\n",
        "print(word)"
      ],
      "metadata": {
        "colab": {
          "base_uri": "https://localhost:8080/"
        },
        "id": "d0b9aX-doCeM",
        "outputId": "7e564b8b-7f43-4a31-80e2-1596d3b9508b"
      },
      "execution_count": 18,
      "outputs": [
        {
          "output_type": "stream",
          "name": "stdout",
          "text": [
            "All of the words in a string that are less than 5 letters: ['to', 'List', 'in', 'Your', 'Head']\n"
          ]
        }
      ]
    },
    {
      "cell_type": "markdown",
      "source": [
        "6) Use a dictionary comprehension to count the length of each word in a sentence (use string above)."
      ],
      "metadata": {
        "id": "DYPmjDWSpiBb"
      }
    },
    {
      "cell_type": "code",
      "source": [
        "str = \"Practice Problems to Drill List Comprehension in Your Head.\"\n",
        "letter = str.split()\n",
        "wordlen = [len(i) for i in letter]\n",
        "print(\"The length of each word in a sentence: \")\n",
        "print(wordlen)"
      ],
      "metadata": {
        "colab": {
          "base_uri": "https://localhost:8080/"
        },
        "id": "UzCzNE9qpmmT",
        "outputId": "0769a2ab-633a-46ba-f1f5-21c947f5efc0"
      },
      "execution_count": 23,
      "outputs": [
        {
          "output_type": "stream",
          "name": "stdout",
          "text": [
            "The length of each word in a sentence: \n",
            "[8, 8, 2, 5, 4, 13, 2, 4, 5]\n"
          ]
        }
      ]
    },
    {
      "cell_type": "markdown",
      "source": [
        "7) Use a nested list comprehension to find all of the numbers from 1–1000 that are divisible by any\n",
        "single digit besides 1 (2–9)"
      ],
      "metadata": {
        "id": "3ucTmtbtqdbm"
      }
    },
    {
      "cell_type": "code",
      "source": [
        "number = [i for i in range(1, 1001)\n",
        "if True in [True for j in range(2, 10) if i % j == 0]]\n",
        "print(\"All of the numbers from 1–1000 that are divisible by any single digit besides 1 (2–9):\")\n",
        "print(number)"
      ],
      "metadata": {
        "colab": {
          "base_uri": "https://localhost:8080/"
        },
        "id": "nQbfdkOwqhSM",
        "outputId": "b60688d5-5837-4897-c91d-993c686c3912"
      },
      "execution_count": 26,
      "outputs": [
        {
          "output_type": "stream",
          "name": "stdout",
          "text": [
            "All of the numbers from 1–1000 that are divisible by any single digit besides 1 (2–9):\n",
            "[2, 3, 4, 5, 6, 7, 8, 9, 10, 12, 14, 15, 16, 18, 20, 21, 22, 24, 25, 26, 27, 28, 30, 32, 33, 34, 35, 36, 38, 39, 40, 42, 44, 45, 46, 48, 49, 50, 51, 52, 54, 55, 56, 57, 58, 60, 62, 63, 64, 65, 66, 68, 69, 70, 72, 74, 75, 76, 77, 78, 80, 81, 82, 84, 85, 86, 87, 88, 90, 91, 92, 93, 94, 95, 96, 98, 99, 100, 102, 104, 105, 106, 108, 110, 111, 112, 114, 115, 116, 117, 118, 119, 120, 122, 123, 124, 125, 126, 128, 129, 130, 132, 133, 134, 135, 136, 138, 140, 141, 142, 144, 145, 146, 147, 148, 150, 152, 153, 154, 155, 156, 158, 159, 160, 161, 162, 164, 165, 166, 168, 170, 171, 172, 174, 175, 176, 177, 178, 180, 182, 183, 184, 185, 186, 188, 189, 190, 192, 194, 195, 196, 198, 200, 201, 202, 203, 204, 205, 206, 207, 208, 210, 212, 213, 214, 215, 216, 217, 218, 219, 220, 222, 224, 225, 226, 228, 230, 231, 232, 234, 235, 236, 237, 238, 240, 242, 243, 244, 245, 246, 248, 249, 250, 252, 254, 255, 256, 258, 259, 260, 261, 262, 264, 265, 266, 267, 268, 270, 272, 273, 274, 275, 276, 278, 279, 280, 282, 284, 285, 286, 287, 288, 290, 291, 292, 294, 295, 296, 297, 298, 300, 301, 302, 303, 304, 305, 306, 308, 309, 310, 312, 314, 315, 316, 318, 320, 321, 322, 324, 325, 326, 327, 328, 329, 330, 332, 333, 334, 335, 336, 338, 339, 340, 342, 343, 344, 345, 346, 348, 350, 351, 352, 354, 355, 356, 357, 358, 360, 362, 363, 364, 365, 366, 368, 369, 370, 371, 372, 374, 375, 376, 378, 380, 381, 382, 384, 385, 386, 387, 388, 390, 392, 393, 394, 395, 396, 398, 399, 400, 402, 404, 405, 406, 408, 410, 411, 412, 413, 414, 415, 416, 417, 418, 420, 422, 423, 424, 425, 426, 427, 428, 429, 430, 432, 434, 435, 436, 438, 440, 441, 442, 444, 445, 446, 447, 448, 450, 452, 453, 454, 455, 456, 458, 459, 460, 462, 464, 465, 466, 468, 469, 470, 471, 472, 474, 475, 476, 477, 478, 480, 482, 483, 484, 485, 486, 488, 489, 490, 492, 494, 495, 496, 497, 498, 500, 501, 502, 504, 505, 506, 507, 508, 510, 511, 512, 513, 514, 515, 516, 518, 519, 520, 522, 524, 525, 526, 528, 530, 531, 532, 534, 535, 536, 537, 538, 539, 540, 542, 543, 544, 545, 546, 548, 549, 550, 552, 553, 554, 555, 556, 558, 560, 561, 562, 564, 565, 566, 567, 568, 570, 572, 573, 574, 575, 576, 578, 579, 580, 581, 582, 584, 585, 586, 588, 590, 591, 592, 594, 595, 596, 597, 598, 600, 602, 603, 604, 605, 606, 608, 609, 610, 612, 614, 615, 616, 618, 620, 621, 622, 623, 624, 625, 626, 627, 628, 630, 632, 633, 634, 635, 636, 637, 638, 639, 640, 642, 644, 645, 646, 648, 650, 651, 652, 654, 655, 656, 657, 658, 660, 662, 663, 664, 665, 666, 668, 669, 670, 672, 674, 675, 676, 678, 679, 680, 681, 682, 684, 685, 686, 687, 688, 690, 692, 693, 694, 695, 696, 698, 699, 700, 702, 704, 705, 706, 707, 708, 710, 711, 712, 714, 715, 716, 717, 718, 720, 721, 722, 723, 724, 725, 726, 728, 729, 730, 732, 734, 735, 736, 738, 740, 741, 742, 744, 745, 746, 747, 748, 749, 750, 752, 753, 754, 755, 756, 758, 759, 760, 762, 763, 764, 765, 766, 768, 770, 771, 772, 774, 775, 776, 777, 778, 780, 782, 783, 784, 785, 786, 788, 789, 790, 791, 792, 794, 795, 796, 798, 800, 801, 802, 804, 805, 806, 807, 808, 810, 812, 813, 814, 815, 816, 818, 819, 820, 822, 824, 825, 826, 828, 830, 831, 832, 833, 834, 835, 836, 837, 838, 840, 842, 843, 844, 845, 846, 847, 848, 849, 850, 852, 854, 855, 856, 858, 860, 861, 862, 864, 865, 866, 867, 868, 870, 872, 873, 874, 875, 876, 878, 879, 880, 882, 884, 885, 886, 888, 889, 890, 891, 892, 894, 895, 896, 897, 898, 900, 902, 903, 904, 905, 906, 908, 909, 910, 912, 914, 915, 916, 917, 918, 920, 921, 922, 924, 925, 926, 927, 928, 930, 931, 932, 933, 934, 935, 936, 938, 939, 940, 942, 944, 945, 946, 948, 950, 951, 952, 954, 955, 956, 957, 958, 959, 960, 962, 963, 964, 965, 966, 968, 969, 970, 972, 973, 974, 975, 976, 978, 980, 981, 982, 984, 985, 986, 987, 988, 990, 992, 993, 994, 995, 996, 998, 999, 1000]\n"
          ]
        }
      ]
    },
    {
      "cell_type": "markdown",
      "source": [
        "8) For all the numbers 1–1000, use a nested list/dictionary comprehension to find the highest single\n",
        "digit any of the numbers is divisible by"
      ],
      "metadata": {
        "id": "j_RO0S-vravk"
      }
    },
    {
      "cell_type": "code",
      "source": [
        "number = [max([j for j in range(1, 10) if i % j == 0]) for i in range(1, 1001)]\n",
        "print(\"The highest single digit any of the numbers is divisible by:\")\n",
        "print(number)"
      ],
      "metadata": {
        "colab": {
          "base_uri": "https://localhost:8080/"
        },
        "id": "6xiOoMyFrcX6",
        "outputId": "fee16b70-5f8c-4649-ca70-d3245bb71de9"
      },
      "execution_count": 27,
      "outputs": [
        {
          "output_type": "stream",
          "name": "stdout",
          "text": [
            "The highest single digit any of the numbers is divisible by:\n",
            "[1, 2, 3, 4, 5, 6, 7, 8, 9, 5, 1, 6, 1, 7, 5, 8, 1, 9, 1, 5, 7, 2, 1, 8, 5, 2, 9, 7, 1, 6, 1, 8, 3, 2, 7, 9, 1, 2, 3, 8, 1, 7, 1, 4, 9, 2, 1, 8, 7, 5, 3, 4, 1, 9, 5, 8, 3, 2, 1, 6, 1, 2, 9, 8, 5, 6, 1, 4, 3, 7, 1, 9, 1, 2, 5, 4, 7, 6, 1, 8, 9, 2, 1, 7, 5, 2, 3, 8, 1, 9, 7, 4, 3, 2, 5, 8, 1, 7, 9, 5, 1, 6, 1, 8, 7, 2, 1, 9, 1, 5, 3, 8, 1, 6, 5, 4, 9, 2, 7, 8, 1, 2, 3, 4, 5, 9, 1, 8, 3, 5, 1, 6, 7, 2, 9, 8, 1, 6, 1, 7, 3, 2, 1, 9, 5, 2, 7, 4, 1, 6, 1, 8, 9, 7, 5, 6, 1, 2, 3, 8, 7, 9, 1, 4, 5, 2, 1, 8, 1, 5, 9, 4, 1, 6, 7, 8, 3, 2, 1, 9, 1, 7, 3, 8, 5, 6, 1, 4, 9, 5, 1, 8, 1, 2, 5, 7, 1, 9, 1, 8, 3, 2, 7, 6, 5, 2, 9, 8, 1, 7, 1, 4, 3, 2, 5, 9, 7, 2, 3, 5, 1, 6, 1, 8, 9, 2, 1, 6, 1, 5, 7, 8, 1, 9, 5, 4, 3, 7, 1, 8, 1, 2, 9, 4, 7, 6, 1, 8, 3, 5, 1, 9, 1, 2, 5, 8, 1, 6, 7, 5, 9, 2, 1, 8, 5, 7, 3, 4, 1, 9, 1, 8, 7, 2, 5, 6, 1, 2, 9, 8, 1, 6, 1, 4, 5, 2, 7, 9, 1, 5, 3, 4, 1, 7, 5, 8, 9, 2, 1, 6, 7, 2, 3, 8, 5, 9, 1, 7, 3, 5, 1, 8, 1, 2, 9, 4, 1, 6, 1, 8, 3, 7, 1, 9, 5, 2, 3, 8, 7, 6, 1, 4, 9, 2, 5, 8, 1, 2, 3, 5, 1, 9, 7, 8, 5, 2, 1, 6, 1, 7, 9, 8, 1, 6, 5, 4, 7, 2, 1, 9, 1, 2, 3, 7, 5, 6, 1, 8, 9, 5, 7, 6, 1, 2, 5, 8, 1, 9, 1, 5, 3, 2, 1, 8, 7, 2, 9, 4, 1, 6, 1, 8, 3, 2, 5, 9, 1, 2, 7, 8, 1, 6, 1, 4, 9, 7, 1, 8, 1, 5, 3, 4, 7, 9, 5, 8, 3, 2, 1, 7, 1, 2, 9, 8, 5, 6, 7, 4, 3, 5, 1, 9, 1, 7, 5, 4, 1, 6, 1, 8, 9, 2, 1, 6, 5, 2, 3, 8, 1, 9, 1, 4, 3, 2, 7, 8, 1, 2, 9, 5, 1, 7, 1, 8, 5, 2, 1, 9, 7, 5, 3, 8, 1, 6, 5, 7, 9, 2, 1, 8, 1, 2, 7, 4, 5, 9, 1, 8, 3, 7, 1, 6, 1, 2, 9, 8, 7, 6, 1, 5, 3, 2, 1, 9, 5, 2, 3, 4, 1, 6, 7, 8, 9, 2, 5, 6, 1, 7, 3, 8, 1, 9, 1, 4, 7, 2, 1, 8, 1, 5, 9, 7, 1, 6, 5, 8, 3, 2, 7, 9, 1, 2, 3, 8, 5, 7, 1, 4, 9, 5, 1, 8, 7, 2, 5, 4, 1, 9, 1, 8, 3, 2, 1, 6, 5, 2, 9, 8, 1, 6, 1, 4, 3, 7, 5, 9, 1, 2, 3, 5, 7, 6, 1, 8, 9, 2, 1, 7, 1, 5, 3, 8, 1, 9, 7, 4, 3, 2, 1, 8, 1, 7, 9, 4, 5, 6, 1, 8, 7, 5, 1, 9, 1, 2, 5, 8, 1, 6, 1, 5, 9, 2, 7, 8, 5, 2, 3, 4, 1, 9, 1, 8, 3, 2, 5, 6, 7, 2, 9, 8, 1, 6, 1, 7, 5, 2, 1, 9, 1, 5, 7, 4, 1, 6, 5, 8, 9, 7, 1, 6, 1, 2, 3, 8, 7, 9, 1, 4, 3, 5, 1, 8, 1, 2, 9, 4, 1, 6, 7, 8, 3, 2, 1, 9, 5, 7, 3, 8, 1, 6, 1, 4, 9, 2, 5, 8, 1, 2, 3, 7, 1, 9, 1, 8, 5, 2, 7, 6, 1, 5, 9, 8, 1, 7, 5, 4, 3, 2, 1, 9, 7, 2, 3, 4, 5, 6, 1, 8, 9, 5, 1, 6, 1, 2, 7, 8, 1, 9, 1, 5, 3, 7, 1, 8, 5, 2, 9, 4, 7, 6, 1, 8, 3, 2, 5, 9, 1, 2, 3, 8, 1, 6, 7, 4, 9, 2, 1, 8, 1, 7, 3, 4, 1, 9, 5, 8, 7, 2, 1, 6, 1, 2, 9, 8, 5, 6, 1, 4, 3, 5, 7, 9, 1, 2, 5, 4, 1, 7, 1, 8, 9, 2, 1, 6, 7, 2, 3, 8, 1, 9, 1, 7, 3, 2, 5, 8, 1, 2, 9, 5, 1, 6, 1, 8, 5, 7, 1, 9, 1, 5, 3, 8, 7, 6, 5, 4, 9, 2, 1, 8, 1, 2, 3, 4, 5, 9, 7, 8, 3, 5, 1, 6, 1, 7, 9, 8, 1, 6, 1, 5, 7, 2, 1, 9, 5, 2, 3, 7, 1, 6, 1, 8, 9, 2, 7, 6, 1, 2, 3, 8, 1, 9, 1, 4, 5, 2, 1, 8, 7, 5, 9, 4, 1, 6, 5, 8, 3, 2, 1, 9, 1, 2, 7, 8, 5, 6, 1, 4, 9, 7, 1, 8, 1, 2, 5, 4, 7, 9, 1, 8, 3, 2, 1, 7, 5, 2, 9, 8, 1, 6, 7, 4, 3, 2, 5, 9, 1, 7, 3, 5, 1, 6, 1, 8, 9, 2, 1, 6, 1, 5, 3, 8, 1, 9, 5, 4, 3, 2, 7, 8, 1, 2, 9, 4, 5, 7, 1, 8, 3, 5, 1, 9, 7, 2, 5, 8, 1, 6, 1, 7, 9, 2, 1, 8, 5, 2, 7, 4, 1, 9, 1, 8, 3, 7, 5, 6, 1, 2, 9, 8]\n"
          ]
        }
      ]
    }
  ]
}