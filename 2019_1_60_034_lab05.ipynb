{
  "nbformat": 4,
  "nbformat_minor": 0,
  "metadata": {
    "colab": {
      "name": "2019-1-60-034_lab05.ipynb",
      "provenance": [],
      "authorship_tag": "ABX9TyOGWNsjjGsobiSDFiYZSHS5",
      "include_colab_link": true
    },
    "kernelspec": {
      "name": "python3",
      "display_name": "Python 3"
    },
    "language_info": {
      "name": "python"
    }
  },
  "cells": [
    {
      "cell_type": "markdown",
      "metadata": {
        "id": "view-in-github",
        "colab_type": "text"
      },
      "source": [
        "<a href=\"https://colab.research.google.com/github/sadiahuq26/cse303_sec3_spring22/blob/main/2019_1_60_034_lab05.ipynb\" target=\"_parent\"><img src=\"https://colab.research.google.com/assets/colab-badge.svg\" alt=\"Open In Colab\"/></a>"
      ]
    },
    {
      "cell_type": "markdown",
      "source": [
        "3) First look into Numpy"
      ],
      "metadata": {
        "id": "qIir3YEHimG3"
      }
    },
    {
      "cell_type": "code",
      "source": [
        "import numpy as np\n",
        "# create a Python list of temperature in degree celcius\n",
        "cvalues = [20.1, 20.8, 21.9, 22.5, 22.7, 22.3, 21.8, 21.2, 20.9,\n",
        "20.1]\n",
        "# converting this list into one-dimensional Numpy array\n",
        "C = np.array(cvalues)\n",
        "print(cvalues)\n",
        "print(type(cvalues))\n",
        "print(C)\n",
        "print(type(C))"
      ],
      "metadata": {
        "colab": {
          "base_uri": "https://localhost:8080/"
        },
        "id": "ED_MHvAoipnc",
        "outputId": "6d6df52b-1172-4bf7-8fbc-45d5c939a812"
      },
      "execution_count": 2,
      "outputs": [
        {
          "output_type": "stream",
          "name": "stdout",
          "text": [
            "[20.1, 20.8, 21.9, 22.5, 22.7, 22.3, 21.8, 21.2, 20.9, 20.1]\n",
            "<class 'list'>\n",
            "[20.1 20.8 21.9 22.5 22.7 22.3 21.8 21.2 20.9 20.1]\n",
            "<class 'numpy.ndarray'>\n"
          ]
        }
      ]
    },
    {
      "cell_type": "markdown",
      "source": [
        "4) Element-wise Operations in Numpy (Scalar Operations)"
      ],
      "metadata": {
        "id": "QsyMXTUwq8TC"
      }
    },
    {
      "cell_type": "code",
      "source": [
        "F = C * 9/5 + 32\n",
        "print(F)\n",
        "# A few other examples of scalar operations\n",
        "A = np.array([[1,2,3],[4,5,6]])\n",
        "print(A)\n",
        "print(A.shape)\n",
        "B = np.array([[7,8,9],[10,11,12]])\n",
        "print(B)\n",
        "print(B.shape)\n",
        "C = A + B\n",
        "print(C)\n",
        "print(C.shape)"
      ],
      "metadata": {
        "colab": {
          "base_uri": "https://localhost:8080/"
        },
        "id": "q5IbkTw0q_2f",
        "outputId": "7f01ee11-b14a-4287-edc0-48a21084a3d2"
      },
      "execution_count": 3,
      "outputs": [
        {
          "output_type": "stream",
          "name": "stdout",
          "text": [
            "[68.18 69.44 71.42 72.5  72.86 72.14 71.24 70.16 69.62 68.18]\n",
            "[[1 2 3]\n",
            " [4 5 6]]\n",
            "(2, 3)\n",
            "[[ 7  8  9]\n",
            " [10 11 12]]\n",
            "(2, 3)\n",
            "[[ 8 10 12]\n",
            " [14 16 18]]\n",
            "(2, 3)\n"
          ]
        }
      ]
    },
    {
      "cell_type": "markdown",
      "source": [
        "5) Array Indexing"
      ],
      "metadata": {
        "id": "SyTGYX1hrYjI"
      }
    },
    {
      "cell_type": "code",
      "source": [
        "a = np.array([[1,2,3,4], [5,6,7,8], [9,10,11,12]])\n",
        "b = a[:,0:2]\n",
        "print(b)\n",
        "print(a[0,0])\n",
        "print(a)"
      ],
      "metadata": {
        "colab": {
          "base_uri": "https://localhost:8080/"
        },
        "id": "lsS6TsaOraF4",
        "outputId": "8c40a544-a2f0-4ebd-f189-a58ef4004f3a"
      },
      "execution_count": 4,
      "outputs": [
        {
          "output_type": "stream",
          "name": "stdout",
          "text": [
            "[[ 1  2]\n",
            " [ 5  6]\n",
            " [ 9 10]]\n",
            "1\n",
            "[[ 1  2  3  4]\n",
            " [ 5  6  7  8]\n",
            " [ 9 10 11 12]]\n"
          ]
        }
      ]
    },
    {
      "cell_type": "markdown",
      "source": [
        "6) Boolean Array Indexing (for Filtering)"
      ],
      "metadata": {
        "id": "LCbzcI3ircuJ"
      }
    },
    {
      "cell_type": "code",
      "source": [
        "a = np.array([[1,2], [3, 4], [5, 6]])\n",
        "bool_idx = (a > 2)\n",
        "print(bool_idx)\n",
        "print(a[bool_idx])\n",
        "# We can do all of the above in a single concise statement:\n",
        "print(a[a > 2]) # Prints \"[3 4 5 6]\""
      ],
      "metadata": {
        "colab": {
          "base_uri": "https://localhost:8080/"
        },
        "id": "xg4yQHjArfU3",
        "outputId": "e7c7cf15-23ae-4acf-c4d5-8b9345e53139"
      },
      "execution_count": 5,
      "outputs": [
        {
          "output_type": "stream",
          "name": "stdout",
          "text": [
            "[[False False]\n",
            " [ True  True]\n",
            " [ True  True]]\n",
            "[3 4 5 6]\n",
            "[3 4 5 6]\n"
          ]
        }
      ]
    },
    {
      "cell_type": "markdown",
      "source": [
        "7) Numpy Simple Math7. Numpy Simple Math"
      ],
      "metadata": {
        "id": "S12P7KPMrjEg"
      }
    },
    {
      "cell_type": "code",
      "source": [
        "x = np.array([[1,2],[3,4]], dtype=np.float64)\n",
        "y = np.array([[5,6],[7,8]], dtype=np.float64)\n",
        "# Elementwise sum\n",
        "print(x + y)\n",
        "print(np.add(x, y))\n",
        "# Elementwise difference\n",
        "print(x - y)\n",
        "print(np.subtract(x, y))\n",
        "# Elementwise product\n",
        "print(x * y)\n",
        "print(np.multiply(x, y))\n",
        "# Elementwise division\n",
        "print(x / y)\n",
        "print(np.divide(x, y))\n",
        "# Elementwise square root\n",
        "print(np.sqrt(x))"
      ],
      "metadata": {
        "colab": {
          "base_uri": "https://localhost:8080/"
        },
        "id": "Z4DuXwNkrlKf",
        "outputId": "e2bf9ee0-2992-46f5-ec03-de293817e392"
      },
      "execution_count": 6,
      "outputs": [
        {
          "output_type": "stream",
          "name": "stdout",
          "text": [
            "[[ 6.  8.]\n",
            " [10. 12.]]\n",
            "[[ 6.  8.]\n",
            " [10. 12.]]\n",
            "[[-4. -4.]\n",
            " [-4. -4.]]\n",
            "[[-4. -4.]\n",
            " [-4. -4.]]\n",
            "[[ 5. 12.]\n",
            " [21. 32.]]\n",
            "[[ 5. 12.]\n",
            " [21. 32.]]\n",
            "[[0.2        0.33333333]\n",
            " [0.42857143 0.5       ]]\n",
            "[[0.2        0.33333333]\n",
            " [0.42857143 0.5       ]]\n",
            "[[1.         1.41421356]\n",
            " [1.73205081 2.        ]]\n"
          ]
        }
      ]
    },
    {
      "cell_type": "markdown",
      "source": [
        "8) Numpy Dot product and Vector and Matrix Multiplication"
      ],
      "metadata": {
        "id": "mTIz9QyJrrbZ"
      }
    },
    {
      "cell_type": "code",
      "source": [
        "x = np.array([[1,2],[3,4]], dtype=np.float64)\n",
        "y = np.array([[5,6],[7,8]], dtype=np.float64)\n",
        "v = np.array([9,10])\n",
        "w = np.array([11, 12])\n",
        "# Inner product of vectors\n",
        "print(v.dot(w))\n",
        "print(np.dot(v, w))\n",
        "# Matrix / vector product\n",
        "print(x.dot(v))\n",
        "print(np.dot(x, v))\n",
        "# Matrix / matrix product\n",
        "print(x.dot(y))\n",
        "print(np.dot(x, y))"
      ],
      "metadata": {
        "colab": {
          "base_uri": "https://localhost:8080/"
        },
        "id": "RUCq_LEBrtE3",
        "outputId": "c3bdef5f-bb7b-4d07-b080-9e0514f21dca"
      },
      "execution_count": 7,
      "outputs": [
        {
          "output_type": "stream",
          "name": "stdout",
          "text": [
            "219\n",
            "219\n",
            "[29. 67.]\n",
            "[29. 67.]\n",
            "[[19. 22.]\n",
            " [43. 50.]]\n",
            "[[19. 22.]\n",
            " [43. 50.]]\n"
          ]
        }
      ]
    },
    {
      "cell_type": "markdown",
      "source": [
        "9) Numpy Mathematical Functions"
      ],
      "metadata": {
        "id": "U-_lkJehryi4"
      }
    },
    {
      "cell_type": "code",
      "source": [
        "x = np.array([[1,2],[3,4]])\n",
        "print(np.sum(x)) # Compute sum of all elements\n",
        "print(np.sum(x, axis=0)) # Compute sum of each column\n",
        "print(np.sum(x, axis=1)) # Compute sum of each row"
      ],
      "metadata": {
        "colab": {
          "base_uri": "https://localhost:8080/"
        },
        "id": "KCWWUaLNr0Q_",
        "outputId": "06875921-f407-407b-9e83-5c01c56a36a7"
      },
      "execution_count": 8,
      "outputs": [
        {
          "output_type": "stream",
          "name": "stdout",
          "text": [
            "10\n",
            "[4 6]\n",
            "[3 7]\n"
          ]
        }
      ]
    },
    {
      "cell_type": "markdown",
      "source": [
        "10) Numpy Statistical Functions"
      ],
      "metadata": {
        "id": "bL4fSwwJr3in"
      }
    },
    {
      "cell_type": "code",
      "source": [
        "data1 = np.arange(1.5)\n",
        "print(np.average(data1))\n",
        "data2 = np.arange(6).reshape(3,2)\n",
        "print(data2)\n",
        "print(np.average(data2, axis = 0))\n",
        "print(np.average(data2, axis = 1))"
      ],
      "metadata": {
        "colab": {
          "base_uri": "https://localhost:8080/"
        },
        "id": "42uXLcx5r6cn",
        "outputId": "4af07cf1-2cf6-45ae-f9ec-64cf9631e387"
      },
      "execution_count": 9,
      "outputs": [
        {
          "output_type": "stream",
          "name": "stdout",
          "text": [
            "0.5\n",
            "[[0 1]\n",
            " [2 3]\n",
            " [4 5]]\n",
            "[2. 3.]\n",
            "[0.5 2.5 4.5]\n"
          ]
        }
      ]
    },
    {
      "cell_type": "markdown",
      "source": [
        "11) Broadcasting"
      ],
      "metadata": {
        "id": "AWkKhjCLr-Bm"
      }
    },
    {
      "cell_type": "code",
      "source": [
        "x = np.array([[1,2,3], [4,5,6], [7,8,9], [10, 11, 12]])\n",
        "v = np.array([1, 0, 1])\n",
        "vv = np.tile(v, (4, 1))\n",
        "y = x + vv\n",
        "print(y)"
      ],
      "metadata": {
        "colab": {
          "base_uri": "https://localhost:8080/"
        },
        "id": "lZ1lk8jAr_gW",
        "outputId": "b61eca4a-8b21-4aaf-e831-320123aed249"
      },
      "execution_count": 13,
      "outputs": [
        {
          "output_type": "stream",
          "name": "stdout",
          "text": [
            "[[ 2  2  4]\n",
            " [ 5  5  7]\n",
            " [ 8  8 10]\n",
            " [11 11 13]]\n"
          ]
        }
      ]
    },
    {
      "cell_type": "markdown",
      "source": [
        "12) Some special Numpy Arrays"
      ],
      "metadata": {
        "id": "hllP170KtFtm"
      }
    },
    {
      "cell_type": "code",
      "source": [
        "np.zeros(5)\n",
        "np.zeros((2,3))\n",
        "np.random.rand(2,3)\n",
        "np.full((2,2),7)\n",
        "np.eye(3)\n",
        "np.arange(2,10,2)\n",
        "np.linspace(0,1,5)\n",
        "a = np.array([3,6,9,12])\n",
        "np.reshape(a,(2,2))\n",
        "a = np.ones((2,2))\n",
        "b = a.flatten()\n",
        "a = np.array([[1,2,3],\n",
        "[4,5,6]])\n",
        "b = np.transpose(a)"
      ],
      "metadata": {
        "id": "5HA94xXVtIWg"
      },
      "execution_count": 15,
      "outputs": []
    },
    {
      "cell_type": "markdown",
      "source": [
        "13) Basic Plotting"
      ],
      "metadata": {
        "id": "iVIj6Ol2tOH-"
      }
    },
    {
      "cell_type": "code",
      "source": [
        "import matplotlib.pyplot as plt\n",
        "# x axis values\n",
        "x = np.array([1,2,3])\n",
        "# corresponding y axis values\n",
        "y = np.array([2,4,1])\n",
        "# plotting the points\n",
        "plt.plot(x, y)\n",
        "# naming the x axis\n",
        "plt.xlabel('x - axis')\n",
        "# naming the y axis\n",
        "plt.ylabel('y - axis')\n",
        "# giving a title to my graph\n",
        "plt.title('My first graph!')\n",
        "# function to show the plot\n",
        "plt.show()"
      ],
      "metadata": {
        "colab": {
          "base_uri": "https://localhost:8080/",
          "height": 295
        },
        "id": "-68LKTu7tP9h",
        "outputId": "3d84f2fc-d842-44ca-ff06-c68c7d8ba4f9"
      },
      "execution_count": 16,
      "outputs": [
        {
          "output_type": "display_data",
          "data": {
            "text/plain": [
              "<Figure size 432x288 with 1 Axes>"
            ],
            "image/png": "[encoded data removed]"
          },
          "metadata": {
            "needs_background": "light"
          }
        }
      ]
    },
    {
      "cell_type": "code",
      "source": [
        "import matplotlib.pyplot as plt\n",
        "# x-coordinates of left sides of bars\n",
        "left = [1, 2, 3, 4, 5]\n",
        "# heights of bars\n",
        "height = [10, 24, 36, 40, 5]\n",
        "# labels for bars\n",
        "tick_label = ['one', 'two', 'three', 'four', 'five']\n",
        "# plotting a bar chart\n",
        "plt.bar(left, height, tick_label = tick_label, width = 0.8, color =\n",
        "['red', 'green'])\n",
        "# naming the x-axis\n",
        "plt.xlabel('x - axis')\n",
        "# naming the y-axis\n",
        "plt.ylabel('y - axis')\n",
        "# plot title\n",
        "plt.title('My bar chart!')\n",
        "# function to show the plot\n",
        "plt.show()"
      ],
      "metadata": {
        "colab": {
          "base_uri": "https://localhost:8080/",
          "height": 295
        },
        "id": "Djol13pStWyl",
        "outputId": "d062f9c3-b158-423e-c28c-945a8e4a0aec"
      },
      "execution_count": 17,
      "outputs": [
        {
          "output_type": "display_data",
          "data": {
            "text/plain": [
              "<Figure size 432x288 with 1 Axes>"
            ],
            "image/png": "[encoded data removed]"
          },
          "metadata": {
            "needs_background": "light"
          }
        }
      ]
    }
  ]
}