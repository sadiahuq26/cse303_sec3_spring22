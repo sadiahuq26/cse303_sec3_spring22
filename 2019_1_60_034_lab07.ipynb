{
  "nbformat": 4,
  "nbformat_minor": 0,
  "metadata": {
    "colab": {
      "name": "2019-1-60-034_lab07.ipynb",
      "provenance": [],
      "authorship_tag": "ABX9TyN1HUebFN5FqJRo1ezSIsU0",
      "include_colab_link": true
    },
    "kernelspec": {
      "name": "python3",
      "display_name": "Python 3"
    },
    "language_info": {
      "name": "python"
    }
  },
  "cells": [
    {
      "cell_type": "markdown",
      "metadata": {
        "id": "view-in-github",
        "colab_type": "text"
      },
      "source": [
        "<a href=\"https://colab.research.google.com/github/sadiahuq26/cse303_sec3_spring22/blob/main/2019_1_60_034_lab07.ipynb\" target=\"_parent\"><img src=\"https://colab.research.google.com/assets/colab-badge.svg\" alt=\"Open In Colab\"/></a>"
      ]
    },
    {
      "cell_type": "markdown",
      "source": [
        "1)  Dot product, Outer Product and Norm of Vector and a Matrix"
      ],
      "metadata": {
        "id": "NFtb4iKsYAOS"
      }
    },
    {
      "cell_type": "code",
      "source": [
        "import numpy as np\n",
        "import matplotlib.pyplot as plt\n",
        "x = np.array([[1,2],[3,4]], dtype=np.int32)\n",
        "y = np.array([[5,6],[7,8]], dtype=np.int32)\n",
        "v = np.array([9,10])\n",
        "w = np.array([11,12])\n",
        "print('Inner Product: ')\n",
        "print(v.dot(w))\n",
        "print(np.dot(v,w))\n",
        "print(np.inner(v,w))\n",
        "print('Outer Product: ')\n",
        "print(np.outer(v,w))\n",
        "print('Norm: ')\n",
        "print(np.linalg.norm(v)) #euclidean\n",
        "print(np.linalg.norm(v,1)) #manhattan\n",
        "print(np.linalg.norm(v,np.inf)) #infinite\n",
        "print(np.linalg.norm(x))\n",
        "print(np.linalg.norm(x, axis=1)) #0 for column, 1 for row"
      ],
      "metadata": {
        "colab": {
          "base_uri": "https://localhost:8080/"
        },
        "id": "j-ymti27YFlj",
        "outputId": "0203d274-7697-47de-8771-468bfebd5718"
      },
      "execution_count": 29,
      "outputs": [
        {
          "output_type": "stream",
          "name": "stdout",
          "text": [
            "Inner Product: \n",
            "219\n",
            "219\n",
            "219\n",
            "Outer Product: \n",
            "[[ 99 108]\n",
            " [110 120]]\n",
            "Norm: \n",
            "13.45362404707371\n",
            "19.0\n",
            "10.0\n",
            "5.477225575051661\n",
            "[2.23606798 5.        ]\n"
          ]
        }
      ]
    },
    {
      "cell_type": "markdown",
      "source": [
        "2) Vector-Matrix and Matrix-Matrix Multiplication"
      ],
      "metadata": {
        "id": "8blfUDRpZz6A"
      }
    },
    {
      "cell_type": "code",
      "source": [
        "print(x.dot(v))\n",
        "print(np.dot(x,v))\n",
        "\n",
        "print(x.dot(y))\n",
        "print(np.dot(x,y))\n",
        "print(np.matmul(x,y))\n",
        "print(x @ y)"
      ],
      "metadata": {
        "colab": {
          "base_uri": "https://localhost:8080/"
        },
        "id": "yRly8SVrZ2E4",
        "outputId": "3bf3b114-3e06-45ba-fbcb-1ac918cab4ed"
      },
      "execution_count": 30,
      "outputs": [
        {
          "output_type": "stream",
          "name": "stdout",
          "text": [
            "[29 67]\n",
            "[29 67]\n",
            "[[19 22]\n",
            " [43 50]]\n",
            "[[19 22]\n",
            " [43 50]]\n",
            "[[19 22]\n",
            " [43 50]]\n",
            "[[19 22]\n",
            " [43 50]]\n"
          ]
        }
      ]
    },
    {
      "cell_type": "markdown",
      "source": [
        "3) Determinant, Trace and Rank of a Matrix "
      ],
      "metadata": {
        "id": "wQmJLbClaWXB"
      }
    },
    {
      "cell_type": "code",
      "source": [
        "m =  np.array([[2,4,6],\n",
        "               [1,5,9],\n",
        "               [3,7,8]])\n",
        "print('Determinant: %.2f'%np.linalg.det(m))\n",
        "print('Trace: %.2f'%np.trace(m))\n",
        "print('Rank: ', np.linalg.matrix_rank(m))"
      ],
      "metadata": {
        "colab": {
          "base_uri": "https://localhost:8080/"
        },
        "id": "7TsZLymdaZBJ",
        "outputId": "c6f55c7a-c381-4101-f2d5-a727de9b10a1"
      },
      "execution_count": 6,
      "outputs": [
        {
          "output_type": "stream",
          "name": "stdout",
          "text": [
            "Determinant: -18.00\n",
            "Trace: 15.00\n",
            "Rank:  3\n"
          ]
        }
      ]
    },
    {
      "cell_type": "markdown",
      "source": [
        "4) Transpose and Inverse of a Matrix"
      ],
      "metadata": {
        "id": "v7GQNg3jbGCg"
      }
    },
    {
      "cell_type": "code",
      "source": [
        "mt1 = m.T\n",
        "print(mt1)\n",
        "mt2 = np.transpose(m)\n",
        "print(mt2)\n",
        "inv_m = np.linalg.inv(m)\n",
        "print(inv_m)"
      ],
      "metadata": {
        "colab": {
          "base_uri": "https://localhost:8080/"
        },
        "id": "LuddC38ibIJQ",
        "outputId": "0e779ada-df21-4c71-8937-2a9d7125d080"
      },
      "execution_count": 8,
      "outputs": [
        {
          "output_type": "stream",
          "name": "stdout",
          "text": [
            "[[2 1 3]\n",
            " [4 5 7]\n",
            " [6 9 8]]\n",
            "[[2 1 3]\n",
            " [4 5 7]\n",
            " [6 9 8]]\n",
            "[[ 1.27777778 -0.55555556 -0.33333333]\n",
            " [-1.05555556  0.11111111  0.66666667]\n",
            " [ 0.44444444  0.11111111 -0.33333333]]\n"
          ]
        }
      ]
    },
    {
      "cell_type": "markdown",
      "source": [
        "5) Solving a Linear System"
      ],
      "metadata": {
        "id": "ZjZ99cHDb5zA"
      }
    },
    {
      "cell_type": "code",
      "source": [
        "A = np.array([[1,2],[3,4]])\n",
        "z = np.array([[5],[6]])\n",
        "print('Using Inverse: \\n', np.linalg.inv(A).dot(z))\n",
        "print('Using Solve: \\n', np.linalg.solve(A, z))"
      ],
      "metadata": {
        "colab": {
          "base_uri": "https://localhost:8080/"
        },
        "id": "HUkHVbQ5b80n",
        "outputId": "af0a7f42-0f97-47e0-cc8f-5a84e56432bf"
      },
      "execution_count": 10,
      "outputs": [
        {
          "output_type": "stream",
          "name": "stdout",
          "text": [
            "Using Inverse: \n",
            " [[-4. ]\n",
            " [ 4.5]]\n",
            "Using Solve: \n",
            " [[-4. ]\n",
            " [ 4.5]]\n"
          ]
        }
      ]
    },
    {
      "cell_type": "markdown",
      "source": [
        "6) Least Square Solution to a Linear Matrix Equation"
      ],
      "metadata": {
        "id": "kTk-jJNQc7UY"
      }
    },
    {
      "cell_type": "code",
      "source": [
        "x = np.arange(0,9)\n",
        "A = np.array([x, np.ones(9)])\n",
        "print(A)\n",
        "y = [19, 20, 20.5, 21.5, 22, 23, 23, 25.5, 24]\n",
        "w = np.linalg.lstsq(A.T, y, rcond=None)[0]\n",
        "print(w)\n",
        "line = w[0]*x + w[1]\n",
        "plt.plot(x, line, 'r-')\n",
        "plt.plot(x, line, 'o')\n",
        "plt.show()"
      ],
      "metadata": {
        "colab": {
          "base_uri": "https://localhost:8080/",
          "height": 317
        },
        "id": "xZWPOGqDc-RH",
        "outputId": "0a7c7c4c-c3be-4810-82ba-66f86496c29e"
      },
      "execution_count": 13,
      "outputs": [
        {
          "output_type": "stream",
          "name": "stdout",
          "text": [
            "[[0. 1. 2. 3. 4. 5. 6. 7. 8.]\n",
            " [1. 1. 1. 1. 1. 1. 1. 1. 1.]]\n",
            "[ 0.71666667 19.18888889]\n"
          ]
        },
        {
          "output_type": "display_data",
          "data": {
            "text/plain": [
              "<Figure size 432x288 with 1 Axes>"
            ],
            "image/png": "[encoded data removed]"
          },
          "metadata": {
            "needs_background": "light"
          }
        }
      ]
    },
    {
      "cell_type": "markdown",
      "source": [
        "7) Eigenvalues and Eigenvectors"
      ],
      "metadata": {
        "id": "a5yOboveeI8A"
      }
    },
    {
      "cell_type": "code",
      "source": [
        "A = np.array([[0,1],[-2,-3]])\n",
        "val, vect = np.linalg.eig(A)\n",
        "print(val)\n",
        "print(vect)"
      ],
      "metadata": {
        "colab": {
          "base_uri": "https://localhost:8080/"
        },
        "id": "U_LjXzzzePJf",
        "outputId": "ea403dd4-17f6-449f-bc82-d132acb1bcd7"
      },
      "execution_count": 14,
      "outputs": [
        {
          "output_type": "stream",
          "name": "stdout",
          "text": [
            "[-1. -2.]\n",
            "[[ 0.70710678 -0.4472136 ]\n",
            " [-0.70710678  0.89442719]]\n"
          ]
        }
      ]
    },
    {
      "cell_type": "markdown",
      "source": [
        "Part 2"
      ],
      "metadata": {
        "id": "40HIN-ZLe3zH"
      }
    },
    {
      "cell_type": "markdown",
      "source": [
        "1) Importing the Dataset and Splitting into Train and Test Dataset"
      ],
      "metadata": {
        "id": "MLDoxngEe53m"
      }
    },
    {
      "cell_type": "code",
      "source": [
        "import numpy as np\n",
        "import matplotlib.pyplot as plt\n",
        "import pandas as pd\n",
        "dataset = pd.read_csv('/content/sample_data/SimpleLinearRegression.csv')\n",
        "dataset.columns = ['YearsExperience', 'Salary']\n",
        "X = dataset[['YearsExperience']]\n",
        "y = dataset[['Salary']]\n",
        "from sklearn.model_selection import train_test_split\n",
        "X_train, X_test, y_train, y_test = train_test_split(X, y, test_size = 1/3, random_state = 0)"
      ],
      "metadata": {
        "id": "Tjj4G8VefATP"
      },
      "execution_count": 15,
      "outputs": []
    },
    {
      "cell_type": "markdown",
      "source": [
        "2) Fitting the dataset into Simple Linear Regression Model"
      ],
      "metadata": {
        "id": "YL_LXA8KhRb2"
      }
    },
    {
      "cell_type": "code",
      "source": [
        "from sklearn.linear_model import LinearRegression\n",
        "regressor = LinearRegression()\n",
        "regressor.fit(X_train, y_train)"
      ],
      "metadata": {
        "colab": {
          "base_uri": "https://localhost:8080/"
        },
        "id": "r6DIFoa0hTum",
        "outputId": "65c05cee-bb3d-4b40-c767-05cdcd596837"
      },
      "execution_count": 16,
      "outputs": [
        {
          "output_type": "execute_result",
          "data": {
            "text/plain": [
              "LinearRegression()"
            ]
          },
          "metadata": {},
          "execution_count": 16
        }
      ]
    },
    {
      "cell_type": "markdown",
      "source": [
        "3) Predicting the values of the Test set"
      ],
      "metadata": {
        "id": "1pij0Li5hyzm"
      }
    },
    {
      "cell_type": "code",
      "source": [
        "y_pred = regressor.predict(X_test)"
      ],
      "metadata": {
        "id": "x1bsRSIHh1U2"
      },
      "execution_count": 17,
      "outputs": []
    },
    {
      "cell_type": "markdown",
      "source": [
        "4) Visualizing the Correlation"
      ],
      "metadata": {
        "id": "fXoStNeih_9F"
      }
    },
    {
      "cell_type": "code",
      "source": [
        "plt.scatter(X_train, y_train, color = 'red')\n",
        "plt.plot(X_train, regressor.predict(X_train), color = 'blue')\n",
        "plt.title('Salary vs Experience (Training set)')\n",
        "plt.xlabel('Years of Experience')\n",
        "plt.ylabel('Salary')\n",
        "plt.show()"
      ],
      "metadata": {
        "colab": {
          "base_uri": "https://localhost:8080/",
          "height": 295
        },
        "id": "TCa-mrYziFAe",
        "outputId": "ed400233-ec3a-4bc9-e733-d73cdb4ec00c"
      },
      "execution_count": 22,
      "outputs": [
        {
          "output_type": "display_data",
          "data": {
            "text/plain": [
              "<Figure size 432x288 with 1 Axes>"
            ],
            "image/png": "[encoded data removed]"
          },
          "metadata": {
            "needs_background": "light"
          }
        }
      ]
    },
    {
      "cell_type": "markdown",
      "source": [
        "5)  Visualizing the Test Set Results"
      ],
      "metadata": {
        "id": "9-UaW9XJjnjt"
      }
    },
    {
      "cell_type": "code",
      "source": [
        "plt.scatter(X_test, y_test, color = 'orange')\n",
        "plt.plot(X_test, regressor.predict(X_test), color = 'green')\n",
        "plt.title('Salary vs Experience (Test set)')\n",
        "plt.xlabel('Years of Experience')\n",
        "plt.ylabel('Salary')\n",
        "plt.show()"
      ],
      "metadata": {
        "colab": {
          "base_uri": "https://localhost:8080/",
          "height": 295
        },
        "id": "iOvCTsejjq0N",
        "outputId": "6b111a1c-d20e-417f-8561-82d04ebc8451"
      },
      "execution_count": 31,
      "outputs": [
        {
          "output_type": "display_data",
          "data": {
            "text/plain": [
              "<Figure size 432x288 with 1 Axes>"
            ],
            "image/png": "[encoded data removed]"
          },
          "metadata": {
            "needs_background": "light"
          }
        }
      ]
    },
    {
      "cell_type": "markdown",
      "source": [
        "6) Model Evaluation for Test Dataset"
      ],
      "metadata": {
        "id": "lSkAuxdGkcJu"
      }
    },
    {
      "cell_type": "code",
      "source": [
        "from sklearn import metrics\n",
        "mae = metrics.mean_absolute_error(y_test, y_pred)\n",
        "mse = metrics.mean_squared_error(y_test, y_pred)\n",
        "r2 = metrics.r2_score(y_test, y_pred)\n",
        "print('The Model performnce for testing set')\n",
        "print('------------------------------------')\n",
        "print('MAE is %.2f'% mae)\n",
        "print('MSE is %.2f'% mse)\n",
        "print('R2 score is %.2f'% r2)"
      ],
      "metadata": {
        "colab": {
          "base_uri": "https://localhost:8080/"
        },
        "id": "-3ThdF63kf49",
        "outputId": "0ead7a69-1345-4f15-b12e-037cfdf0b4f2"
      },
      "execution_count": 28,
      "outputs": [
        {
          "output_type": "stream",
          "name": "stdout",
          "text": [
            "The Model performnce for testing set\n",
            "------------------------------------\n",
            "MAE is 3426.43\n",
            "MSE is 21026037.33\n",
            "R2 score is 0.97\n"
          ]
        }
      ]
    },
    {
      "cell_type": "markdown",
      "source": [
        ""
      ],
      "metadata": {
        "id": "O6V_v69kjJHt"
      }
    }
  ]
}